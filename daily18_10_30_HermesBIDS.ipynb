{
 "cells": [
  {
   "cell_type": "code",
   "execution_count": 53,
   "metadata": {},
   "outputs": [],
   "source": [
    "%matplotlib inline\n",
    "import bids\n",
    "import mne\n",
    "from matplotlib import pyplot as plt\n",
    "import numpy as np\n",
    "import scipy as sp\n",
    "import pandas as pd\n",
    "\n",
    "import sys\n",
    "sys.path.append('/Users/rdgao/Documents/code/research/spectralCV/')\n",
    "sys.path.append('/Users/rdgao/Documents/code/research/neurodsp/')\n",
    "\n",
    "from scv_funcs import lfpca"
   ]
  },
  {
   "cell_type": "code",
   "execution_count": 236,
   "metadata": {},
   "outputs": [],
   "source": [
    "subj, sess, run = '01', '01', 1\n",
    "layout = bids.layout.BIDSLayout('/Users/rdgao/Documents/data/Hermes/')\n",
    "f_raw = layout.get(return_type='object', suffix='ieeg', subject=subj, session=sess, run=run, extensions='.vhdr')[0]\n",
    "f_events = layout.get(return_type='object', suffix='events', subject=subj, session=sess, run=run)[0]\n",
    "f_channels = layout.get(return_type='object', suffix='channels', subject=subj, session=sess, run=run)[0]\n",
    "f_elec = layout.get(return_type='object', suffix='electrodes', subject=subj, session=sess)[0]\n",
    "\n",
    "events = pd.read_csv(f_events.path, delimiter='\\t')\n",
    "chan_info = pd.read_csv(f_channels.path, delimiter='\\t')\n",
    "elec_loc = pd.read_csv(f_elec.path, delimiter='\\t').apply(pd.to_numeric, errors='coerce')\n",
    "#elec_loc = elec_loc.apply(pd.to_numeric, errors='coerce')\n"
   ]
  },
  {
   "cell_type": "code",
   "execution_count": 237,
   "metadata": {},
   "outputs": [
    {
     "data": {
      "text/plain": [
       "{'ECGChannelCount': 0,\n",
       " 'ECOGChannelCount': 118,\n",
       " 'EEGChannelCount': 0,\n",
       " 'EMGChannelCount': 0,\n",
       " 'EOGChannelCount': 0,\n",
       " 'ElectrodeManufacturer': 'AdTech',\n",
       " 'EpochLength': 0,\n",
       " 'HardwareFilters': ['highpass', '0.5', 'lowpass', '300'],\n",
       " 'InstitutionAddress': '300 Pasteur Dr, Stanford, CA 94305',\n",
       " 'InstitutionName': 'Stanford Hospital and Clinics',\n",
       " 'Instructions': 'look at the dot in the center of the screen and press the button when it changes color',\n",
       " 'Manufacturer': 'Tucker Davis Technologies',\n",
       " 'MiscChannelCount': 0,\n",
       " 'PowerLineFrequency': 60,\n",
       " 'RecordingDuration': 233.639,\n",
       " 'RecordingType': 'continuous',\n",
       " 'SEEGChannelCount': 0,\n",
       " 'SamplingFrequency': 3051.76,\n",
       " 'SoftwareFilters': 'n/a',\n",
       " 'TaskDescription': 'visual gratings and noise patterns',\n",
       " 'TaskName': 'visual',\n",
       " 'TriggerChannelCount': 0,\n",
       " 'iEEGPlacementScheme': 'right occipital temporal surface',\n",
       " 'iEEGReferenceScheme': 'intracranial channel not included with data'}"
      ]
     },
     "execution_count": 237,
     "metadata": {},
     "output_type": "execute_result"
    }
   ],
   "source": [
    "layout.get_metadata(f_raw.path)"
   ]
  },
  {
   "cell_type": "code",
   "execution_count": null,
   "metadata": {},
   "outputs": [
    {
     "name": "stdout",
     "output_type": "stream",
     "text": [
      "Extracting parameters from /Users/rdgao/Documents/data/Hermes/sub-01/ses-01/ieeg/sub-01_ses-01_task-visual_run-01_ieeg.vhdr...\n",
      "Setting channel info structure...\n",
      "Reading 0 ... 713009  =      0.000 ...   233.620 secs...\n"
     ]
    }
   ],
   "source": [
    "raw = mne.io.read_raw_brainvision(f_raw.path, preload=True)\n",
    "raw.info\n",
    "data, t = raw[:,:]\n",
    "data = data[:-1,:]"
   ]
  },
  {
   "cell_type": "markdown",
   "metadata": {},
   "source": [
    "# Run SCV"
   ]
  },
  {
   "cell_type": "code",
   "execution_count": null,
   "metadata": {},
   "outputs": [],
   "source": [
    "fs = 1./np.diff(t).mean()\n",
    "params = {'nperseg':int(fs), 'noverlap':0, 'spg_outlierpct':1, 'max_freq':250}\n",
    "lf = lfpca.LFPCA(params)\n",
    "lf.populate_ts_data(data,fs)\n",
    "lf.compute_all_spectral()\n",
    "lf.compute_KS_expfit()"
   ]
  },
  {
   "cell_type": "code",
   "execution_count": null,
   "metadata": {},
   "outputs": [],
   "source": [
    "good_chans = np.where(chan_info['status']=='good')[0]\n",
    "plt.figure(figsize=(12,4))\n",
    "lf.plot_spectral(plot_mean=False, plot_chan=good_chans, exc_freqs=[[56,65]])"
   ]
  },
  {
   "cell_type": "code",
   "execution_count": null,
   "metadata": {},
   "outputs": [],
   "source": [
    "f_range = (30,50)\n",
    "scv_mean = lf.scv[good_chans,f_range[0]:f_range[1]].mean(axis=1)\n",
    "plt.figure(figsize=(6,6))\n",
    "plt.scatter(elec_loc['x'][good_chans], elec_loc['y'][good_chans], s=100, c=scv_mean, alpha=0.8)\n",
    "plt.colorbar(label='Mean SCV (%i-%iHz)'%f_range)"
   ]
  },
  {
   "cell_type": "code",
   "execution_count": null,
   "metadata": {
    "collapsed": true
   },
   "outputs": [],
   "source": []
  }
 ],
 "metadata": {
  "kernelspec": {
   "display_name": "Python 3",
   "language": "python",
   "name": "python3"
  },
  "language_info": {
   "codemirror_mode": {
    "name": "ipython",
    "version": 3
   },
   "file_extension": ".py",
   "mimetype": "text/x-python",
   "name": "python",
   "nbconvert_exporter": "python",
   "pygments_lexer": "ipython3",
   "version": "3.6.3"
  }
 },
 "nbformat": 4,
 "nbformat_minor": 2
}
