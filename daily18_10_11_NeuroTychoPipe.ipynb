{
 "cells": [
  {
   "cell_type": "code",
   "execution_count": 187,
   "metadata": {},
   "outputs": [
    {
     "name": "stdout",
     "output_type": "stream",
     "text": [
      "The autoreload extension is already loaded. To reload it, use:\n",
      "  %reload_ext autoreload\n"
     ]
    }
   ],
   "source": [
    "%load_ext autoreload\n",
    "%autoreload 2\n",
    "%matplotlib inline\n",
    "\n",
    "import sys\n",
    "sys.path.append('/Users/rdgao/Documents/code/research/fooof/')\n",
    "sys.path.append('/Users/rdgao/Documents/code/research/neurodsp/')\n",
    "sys.path.append('/Users/rdgao/Documents/code/research/SpaceRecon/')\n",
    "sys.path.append('/Users/rdgao/Documents/code/research/spectralCV/')\n",
    "\n",
    "import matplotlib.pylab as plt\n",
    "import numpy as np\n",
    "import scipy as sp\n",
    "from scipy import io\n",
    "import os\n",
    "from scv_funcs import access_nt, utils\n",
    "import neurodsp as ndsp\n",
    "from nlds import dfa, delayembed\n",
    "\n",
    "# Import the FOOOF object\n",
    "from fooof import FOOOF, FOOOFGroup\n",
    "\n",
    "font = {'family' : 'arial',\n",
    "        'weight' : 'regular',\n",
    "        'size'   : 14}\n",
    "import matplotlib\n",
    "matplotlib.rc('font', **font)"
   ]
  },
  {
   "cell_type": "markdown",
   "metadata": {},
   "source": [
    "### Raw data processing"
   ]
  },
  {
   "cell_type": "code",
   "execution_count": 56,
   "metadata": {
    "scrolled": true
   },
   "outputs": [
    {
     "name": "stdout",
     "output_type": "stream",
     "text": [
      "------\n",
      " Propofol/20120730PF_Anesthesia+and+Sleep_Chibi_Toru+Yanagawa_mat_ECoG128\n",
      "0_EyesOpen_Propofol_20120730PF_Anesthesia_and_Sleep_Chibi_Toru_Yanagawa_mat_ECoG128\n",
      "AwakeEyesOpened-Start to AwakeEyesOpened-End\n"
     ]
    },
    {
     "ename": "KeyboardInterrupt",
     "evalue": "",
     "output_type": "error",
     "traceback": [
      "\u001b[0;31m---------------------------------------------------------------------------\u001b[0m",
      "\u001b[0;31mKeyboardInterrupt\u001b[0m                         Traceback (most recent call last)",
      "\u001b[0;32m<ipython-input-56-566faeb2d10b>\u001b[0m in \u001b[0;36m<module>\u001b[0;34m()\u001b[0m\n\u001b[1;32m     27\u001b[0m \u001b[0;34m\u001b[0m\u001b[0m\n\u001b[1;32m     28\u001b[0m         \u001b[0mindices\u001b[0m \u001b[0;34m=\u001b[0m \u001b[0maccess_nt\u001b[0m\u001b[0;34m.\u001b[0m\u001b[0mget_cond\u001b[0m\u001b[0;34m(\u001b[0m\u001b[0mdata_path\u001b[0m\u001b[0;34m+\u001b[0m\u001b[0mds\u001b[0m\u001b[0;34m+\u001b[0m\u001b[0msess_append\u001b[0m\u001b[0;34m,\u001b[0m\u001b[0msession\u001b[0m\u001b[0;34m[\u001b[0m\u001b[0;36m0\u001b[0m\u001b[0;34m]\u001b[0m\u001b[0;34m,\u001b[0m \u001b[0msession\u001b[0m\u001b[0;34m[\u001b[0m\u001b[0;36m1\u001b[0m\u001b[0;34m]\u001b[0m\u001b[0;34m,\u001b[0m \u001b[0msession\u001b[0m\u001b[0;34m[\u001b[0m\u001b[0;36m2\u001b[0m\u001b[0;34m]\u001b[0m\u001b[0;34m)\u001b[0m\u001b[0;34m\u001b[0m\u001b[0m\n\u001b[0;32m---> 29\u001b[0;31m         \u001b[0mdata\u001b[0m \u001b[0;34m=\u001b[0m \u001b[0maccess_nt\u001b[0m\u001b[0;34m.\u001b[0m\u001b[0mget_ECoG\u001b[0m\u001b[0;34m(\u001b[0m\u001b[0mdata_path\u001b[0m\u001b[0;34m+\u001b[0m\u001b[0mds\u001b[0m\u001b[0;34m+\u001b[0m\u001b[0msess_append\u001b[0m\u001b[0;34m,\u001b[0m \u001b[0msession\u001b[0m\u001b[0;34m[\u001b[0m\u001b[0;36m0\u001b[0m\u001b[0;34m]\u001b[0m\u001b[0;34m,\u001b[0m \u001b[0mrange\u001b[0m\u001b[0;34m(\u001b[0m\u001b[0;36m1\u001b[0m\u001b[0;34m,\u001b[0m\u001b[0;36m129\u001b[0m\u001b[0;34m)\u001b[0m\u001b[0;34m,\u001b[0m \u001b[0mindices\u001b[0m\u001b[0;34m)\u001b[0m\u001b[0;34m\u001b[0m\u001b[0m\n\u001b[0m\u001b[1;32m     30\u001b[0m         \u001b[0mfs\u001b[0m \u001b[0;34m=\u001b[0m \u001b[0;36m1000.\u001b[0m\u001b[0;34m\u001b[0m\u001b[0m\n\u001b[1;32m     31\u001b[0m \u001b[0;34m\u001b[0m\u001b[0m\n",
      "\u001b[0;32m~/Documents/code/research/spectralCV/scv_funcs/access_nt.py\u001b[0m in \u001b[0;36mget_ECoG\u001b[0;34m(data_path, session, chan, indices)\u001b[0m\n\u001b[1;32m     39\u001b[0m         \u001b[0;32mtry\u001b[0m\u001b[0;34m:\u001b[0m\u001b[0;34m\u001b[0m\u001b[0m\n\u001b[1;32m     40\u001b[0m             matfile = io.loadmat(data_path + 'ECoG_ch%d.mat'%(c),\n\u001b[0;32m---> 41\u001b[0;31m                                  squeeze_me=True)\n\u001b[0m\u001b[1;32m     42\u001b[0m             \u001b[0mdata\u001b[0m \u001b[0;34m=\u001b[0m \u001b[0mmatfile\u001b[0m\u001b[0;34m[\u001b[0m\u001b[0;34m'ECoGData_ch%d'\u001b[0m\u001b[0;34m%\u001b[0m\u001b[0;34m(\u001b[0m\u001b[0mc\u001b[0m\u001b[0;34m)\u001b[0m\u001b[0;34m]\u001b[0m\u001b[0;34m\u001b[0m\u001b[0m\n\u001b[1;32m     43\u001b[0m             \u001b[0;32mif\u001b[0m \u001b[0mindices\u001b[0m \u001b[0;34m==\u001b[0m \u001b[0;34m[\u001b[0m\u001b[0;36m0\u001b[0m\u001b[0;34m,\u001b[0m\u001b[0;36m0\u001b[0m\u001b[0;34m]\u001b[0m\u001b[0;34m:\u001b[0m\u001b[0;34m\u001b[0m\u001b[0m\n",
      "\u001b[0;32m~/anaconda3/lib/python3.6/site-packages/scipy/io/matlab/mio.py\u001b[0m in \u001b[0;36mloadmat\u001b[0;34m(file_name, mdict, appendmat, **kwargs)\u001b[0m\n\u001b[1;32m    139\u001b[0m     \"\"\"\n\u001b[1;32m    140\u001b[0m     \u001b[0mvariable_names\u001b[0m \u001b[0;34m=\u001b[0m \u001b[0mkwargs\u001b[0m\u001b[0;34m.\u001b[0m\u001b[0mpop\u001b[0m\u001b[0;34m(\u001b[0m\u001b[0;34m'variable_names'\u001b[0m\u001b[0;34m,\u001b[0m \u001b[0;32mNone\u001b[0m\u001b[0;34m)\u001b[0m\u001b[0;34m\u001b[0m\u001b[0m\n\u001b[0;32m--> 141\u001b[0;31m     \u001b[0mMR\u001b[0m\u001b[0;34m,\u001b[0m \u001b[0mfile_opened\u001b[0m \u001b[0;34m=\u001b[0m \u001b[0mmat_reader_factory\u001b[0m\u001b[0;34m(\u001b[0m\u001b[0mfile_name\u001b[0m\u001b[0;34m,\u001b[0m \u001b[0mappendmat\u001b[0m\u001b[0;34m,\u001b[0m \u001b[0;34m**\u001b[0m\u001b[0mkwargs\u001b[0m\u001b[0;34m)\u001b[0m\u001b[0;34m\u001b[0m\u001b[0m\n\u001b[0m\u001b[1;32m    142\u001b[0m     \u001b[0mmatfile_dict\u001b[0m \u001b[0;34m=\u001b[0m \u001b[0mMR\u001b[0m\u001b[0;34m.\u001b[0m\u001b[0mget_variables\u001b[0m\u001b[0;34m(\u001b[0m\u001b[0mvariable_names\u001b[0m\u001b[0;34m)\u001b[0m\u001b[0;34m\u001b[0m\u001b[0m\n\u001b[1;32m    143\u001b[0m     \u001b[0;32mif\u001b[0m \u001b[0mmdict\u001b[0m \u001b[0;32mis\u001b[0m \u001b[0;32mnot\u001b[0m \u001b[0;32mNone\u001b[0m\u001b[0;34m:\u001b[0m\u001b[0;34m\u001b[0m\u001b[0m\n",
      "\u001b[0;32m~/anaconda3/lib/python3.6/site-packages/scipy/io/matlab/mio.py\u001b[0m in \u001b[0;36mmat_reader_factory\u001b[0;34m(file_name, appendmat, **kwargs)\u001b[0m\n\u001b[1;32m     63\u001b[0m     \"\"\"\n\u001b[1;32m     64\u001b[0m     \u001b[0mbyte_stream\u001b[0m\u001b[0;34m,\u001b[0m \u001b[0mfile_opened\u001b[0m \u001b[0;34m=\u001b[0m \u001b[0m_open_file\u001b[0m\u001b[0;34m(\u001b[0m\u001b[0mfile_name\u001b[0m\u001b[0;34m,\u001b[0m \u001b[0mappendmat\u001b[0m\u001b[0;34m)\u001b[0m\u001b[0;34m\u001b[0m\u001b[0m\n\u001b[0;32m---> 65\u001b[0;31m     \u001b[0mmjv\u001b[0m\u001b[0;34m,\u001b[0m \u001b[0mmnv\u001b[0m \u001b[0;34m=\u001b[0m \u001b[0mget_matfile_version\u001b[0m\u001b[0;34m(\u001b[0m\u001b[0mbyte_stream\u001b[0m\u001b[0;34m)\u001b[0m\u001b[0;34m\u001b[0m\u001b[0m\n\u001b[0m\u001b[1;32m     66\u001b[0m     \u001b[0;32mif\u001b[0m \u001b[0mmjv\u001b[0m \u001b[0;34m==\u001b[0m \u001b[0;36m0\u001b[0m\u001b[0;34m:\u001b[0m\u001b[0;34m\u001b[0m\u001b[0m\n\u001b[1;32m     67\u001b[0m         \u001b[0;32mreturn\u001b[0m \u001b[0mMatFile4Reader\u001b[0m\u001b[0;34m(\u001b[0m\u001b[0mbyte_stream\u001b[0m\u001b[0;34m,\u001b[0m \u001b[0;34m**\u001b[0m\u001b[0mkwargs\u001b[0m\u001b[0;34m)\u001b[0m\u001b[0;34m,\u001b[0m \u001b[0mfile_opened\u001b[0m\u001b[0;34m\u001b[0m\u001b[0m\n",
      "\u001b[0;32m~/anaconda3/lib/python3.6/site-packages/scipy/io/matlab/miobase.py\u001b[0m in \u001b[0;36mget_matfile_version\u001b[0;34m(fileobj)\u001b[0m\n\u001b[1;32m    220\u001b[0m     \u001b[0;31m# Mat4 files have a zero somewhere in first 4 bytes\u001b[0m\u001b[0;34m\u001b[0m\u001b[0;34m\u001b[0m\u001b[0m\n\u001b[1;32m    221\u001b[0m     \u001b[0mfileobj\u001b[0m\u001b[0;34m.\u001b[0m\u001b[0mseek\u001b[0m\u001b[0;34m(\u001b[0m\u001b[0;36m0\u001b[0m\u001b[0;34m)\u001b[0m\u001b[0;34m\u001b[0m\u001b[0m\n\u001b[0;32m--> 222\u001b[0;31m     \u001b[0mmopt_bytes\u001b[0m \u001b[0;34m=\u001b[0m \u001b[0mfileobj\u001b[0m\u001b[0;34m.\u001b[0m\u001b[0mread\u001b[0m\u001b[0;34m(\u001b[0m\u001b[0;36m4\u001b[0m\u001b[0;34m)\u001b[0m\u001b[0;34m\u001b[0m\u001b[0m\n\u001b[0m\u001b[1;32m    223\u001b[0m     \u001b[0;32mif\u001b[0m \u001b[0mlen\u001b[0m\u001b[0;34m(\u001b[0m\u001b[0mmopt_bytes\u001b[0m\u001b[0;34m)\u001b[0m \u001b[0;34m==\u001b[0m \u001b[0;36m0\u001b[0m\u001b[0;34m:\u001b[0m\u001b[0;34m\u001b[0m\u001b[0m\n\u001b[1;32m    224\u001b[0m         \u001b[0;32mraise\u001b[0m \u001b[0mMatReadError\u001b[0m\u001b[0;34m(\u001b[0m\u001b[0;34m\"Mat file appears to be empty\"\u001b[0m\u001b[0;34m)\u001b[0m\u001b[0;34m\u001b[0m\u001b[0m\n",
      "\u001b[0;31mKeyboardInterrupt\u001b[0m: "
     ]
    }
   ],
   "source": [
    "do_compute_psds = True\n",
    "do_compute_spg = False\n",
    "do_compute_dfas = False\n",
    "do_fooof_psds = False\n",
    "\n",
    "data_path = '/Users/rdgao/Documents/data/NeuroTycho/'\n",
    "datasets = ['Propofol/20120730PF_Anesthesia+and+Sleep_Chibi_Toru+Yanagawa_mat_ECoG128',\n",
    "           'Propofol/20120731PF_Anesthesia+and+Sleep_George_Toru+Yanagawa_mat_ECoG128',\n",
    "           'Propofol/20120802PF_Anesthesia+and+Sleep_Chibi_Toru+Yanagawa_mat_ECoG128',\n",
    "           'Propofol/20120803PF_Anesthesia+and+Sleep_George_Toru+Yanagawa_mat_ECoG128',\n",
    "            'Ketamine/20120719KT_Anesthesia+and+Sleep_Chibi_Toru+Yanagawa_mat_ECoG128',\n",
    "            'Ketamine/20120724KT_Anesthesia+and+Sleep_George_Toru+Yanagawa_mat_ECoG128',\n",
    "            'Ketamine/20120810KT_Anesthesia+and+Sleep_George_Toru+Yanagawa_mat_ECoG128',\n",
    "            'Ketamine/20120813KT_Anesthesia+and+Sleep_Chibi_Toru+Yanagawa_mat_ECoG128'            \n",
    "           ]\n",
    "sess_append = '/Session%d/'\n",
    "\n",
    "session_indices = [(1,0,1), (1,2,3), (2,0,1), (2,1,2)]\n",
    "session_labels = ['EyesOpen', 'EyesClosed', 'Delivery', 'Anesthesia']\n",
    "\n",
    "for ds in datasets:    \n",
    "    print('------\\n',ds)\n",
    "    for i in range(len(session_indices)):\n",
    "        session = session_indices[i]\n",
    "        outfile = str(i)+'_'+(session_labels[i]+'_'+ds).replace('/','_').replace('+','_')\n",
    "        print(outfile)\n",
    "        \n",
    "        indices = access_nt.get_cond(data_path+ds+sess_append,session[0], session[1], session[2])\n",
    "        data = access_nt.get_ECoG(data_path+ds+sess_append, session[0], range(1,129), indices)\n",
    "        fs = 1000.\n",
    "        \n",
    "        # compute PSDs\n",
    "        psd_path = data_path+'results/psd/'\n",
    "        if do_compute_psds:    \n",
    "            # 1 second resolution psd\n",
    "            full_outpath = psd_path+'1sec_win/'\n",
    "            if not os.path.exists(full_outpath):\n",
    "                os.makedirs(full_outpath)\n",
    "            print(full_outpath)\n",
    "            nperseg, noverlap, flim, spg_outlierpct = int(fs), int(fs/2), 200., 5\n",
    "            f_axis, psd_full = ndsp.spectral.psd(data, fs, method='mean', nperseg=nperseg, noverlap=noverlap, flim=flim)\n",
    "            f_axis, psd = ndsp.spectral.psd(data, fs, method='mean', nperseg=nperseg, noverlap=noverlap, flim=flim, spg_outlierpct=spg_outlierpct)\n",
    "            f_axis, psd_med = ndsp.spectral.psd(data, fs, method='median', nperseg=nperseg, noverlap=noverlap, flim=flim, spg_outlierpct=spg_outlierpct)\n",
    "            save_dict = dict((name,eval(name)) for name in ['f_axis','psd','psd_full','psd_med','nperseg','noverlap','fs','spg_outlierpct'])\n",
    "            np.savez(file=full_outpath+outfile+'.npz', **save_dict)\n",
    "            \n",
    "            # 10 second resolution psd\n",
    "            full_outpath = psd_path+'10sec_win/'\n",
    "            if not os.path.exists(full_outpath):\n",
    "                os.makedirs(full_outpath)\n",
    "            print(full_outpath)\n",
    "            nperseg, noverlap, flim, spg_outlierpct = int(fs*10), int(fs*5), 200., 5\n",
    "            f_axis, psd_full = ndsp.spectral.psd(data, fs, method='mean', nperseg=nperseg, noverlap=noverlap, flim=flim)\n",
    "            f_axis, psd = ndsp.spectral.psd(data, fs, method='mean', nperseg=nperseg, noverlap=noverlap, flim=flim, spg_outlierpct=spg_outlierpct)\n",
    "            f_axis, psd_med = ndsp.spectral.psd(data, fs, method='median', nperseg=nperseg, noverlap=noverlap, flim=flim, spg_outlierpct=spg_outlierpct)\n",
    "            save_dict = dict((name,eval(name)) for name in ['f_axis','psd','psd_full','psd_med','nperseg','noverlap','fs','spg_outlierpct'])\n",
    "            np.savez(file=full_outpath+outfile+'.npz', **save_dict)\n",
    "        \n",
    "        if do_compute_spg:\n",
    "            # compute rolling psd\n",
    "            full_outpath = psd_path+'1sec_rolling/'\n",
    "            if not os.path.exists(full_outpath):\n",
    "                os.makedirs(full_outpath)\n",
    "            print(full_outpath)\n",
    "            nperseg, noverlap, winlen_roll = int(fs), int(fs/2), 10.\n",
    "            f_axis, t_roll, psd_rolling, psd_rolling_med=compute_rolling_psd(data, fs, nperseg=nperseg, noverlap=noverlap, winlen_roll=winlen_roll)            \n",
    "            np.savez(file=full_outpath+outfile+'.npz', f_axis=f_axis, t_roll=t_roll, psd_rolling=psd_rolling, psd_rolling_med=psd_rolling_med,nperseg=nperseg, noverlap=noverlap, fs=fs, winlen_roll=winlen_roll)\n",
    "        \n",
    "        # compute DFA\n",
    "        dfa_path = data_path+'results/dfa/'\n",
    "        if do_compute_dfas:\n",
    "            print(dfa_path)\n",
    "            if not os.path.exists(dfa_path):\n",
    "                os.makedirs(dfa_path)\n",
    "\n",
    "            t_scales, DFs, alphas = compute_dfa(data, fs, dfa_n_scales=20, dfa_min_scale=0.01, dfa_max_scale=10)\n",
    "            np.savez(file=dfa_path+outfile, t_scales=t_scales, DFs=DFs, alphas=alphas)"
   ]
  },
  {
   "cell_type": "markdown",
   "metadata": {},
   "source": [
    "# FOOOF PSDs & plot"
   ]
  },
  {
   "cell_type": "code",
   "execution_count": 191,
   "metadata": {
    "scrolled": true
   },
   "outputs": [
    {
     "name": "stdout",
     "output_type": "stream",
     "text": [
      "/Users/rdgao/Documents/data/NeuroTycho/results/psd/1sec_win/fooof/0_EyesOpen_Ketamine_20120719KT_Anesthesia_and_Sleep_Chibi_Toru_Yanagawa_mat_ECoG128.npz\n",
      "/Users/rdgao/Documents/data/NeuroTycho/results/psd/1sec_win/fooof/0_EyesOpen_Ketamine_20120724KT_Anesthesia_and_Sleep_George_Toru_Yanagawa_mat_ECoG128.npz\n",
      "/Users/rdgao/Documents/data/NeuroTycho/results/psd/1sec_win/fooof/0_EyesOpen_Ketamine_20120810KT_Anesthesia_and_Sleep_George_Toru_Yanagawa_mat_ECoG128.npz\n"
     ]
    },
    {
     "name": "stderr",
     "output_type": "stream",
     "text": [
      "/Users/rdgao/Documents/code/research/fooof/fooof/core/funcs.py:65: RuntimeWarning: invalid value encountered in log10\n",
      "  ys = ys + offset - np.log10(knee + xs**exp)\n"
     ]
    },
    {
     "name": "stdout",
     "output_type": "stream",
     "text": [
      "/Users/rdgao/Documents/data/NeuroTycho/results/psd/1sec_win/fooof/0_EyesOpen_Ketamine_20120813KT_Anesthesia_and_Sleep_Chibi_Toru_Yanagawa_mat_ECoG128.npz\n",
      "/Users/rdgao/Documents/data/NeuroTycho/results/psd/1sec_win/fooof/0_EyesOpen_Propofol_20120730PF_Anesthesia_and_Sleep_Chibi_Toru_Yanagawa_mat_ECoG128.npz\n",
      "/Users/rdgao/Documents/data/NeuroTycho/results/psd/1sec_win/fooof/0_EyesOpen_Propofol_20120731PF_Anesthesia_and_Sleep_George_Toru_Yanagawa_mat_ECoG128.npz\n",
      "/Users/rdgao/Documents/data/NeuroTycho/results/psd/1sec_win/fooof/0_EyesOpen_Propofol_20120802PF_Anesthesia_and_Sleep_Chibi_Toru_Yanagawa_mat_ECoG128.npz\n"
     ]
    },
    {
     "name": "stderr",
     "output_type": "stream",
     "text": [
      "/Users/rdgao/Documents/code/research/fooof/fooof/core/funcs.py:65: RuntimeWarning: invalid value encountered in log10\n",
      "  ys = ys + offset - np.log10(knee + xs**exp)\n"
     ]
    },
    {
     "name": "stdout",
     "output_type": "stream",
     "text": [
      "/Users/rdgao/Documents/data/NeuroTycho/results/psd/1sec_win/fooof/0_EyesOpen_Propofol_20120803PF_Anesthesia_and_Sleep_George_Toru_Yanagawa_mat_ECoG128.npz\n"
     ]
    },
    {
     "name": "stderr",
     "output_type": "stream",
     "text": [
      "/Users/rdgao/Documents/code/research/fooof/fooof/core/funcs.py:65: RuntimeWarning: invalid value encountered in log10\n",
      "  ys = ys + offset - np.log10(knee + xs**exp)\n",
      "/Users/rdgao/Documents/code/research/fooof/fooof/core/funcs.py:65: RuntimeWarning: invalid value encountered in log10\n",
      "  ys = ys + offset - np.log10(knee + xs**exp)\n",
      "/Users/rdgao/Documents/code/research/fooof/fooof/core/funcs.py:65: RuntimeWarning: invalid value encountered in log10\n",
      "  ys = ys + offset - np.log10(knee + xs**exp)\n"
     ]
    },
    {
     "name": "stdout",
     "output_type": "stream",
     "text": [
      "/Users/rdgao/Documents/data/NeuroTycho/results/psd/1sec_win/fooof/1_EyesClosed_Ketamine_20120719KT_Anesthesia_and_Sleep_Chibi_Toru_Yanagawa_mat_ECoG128.npz\n",
      "/Users/rdgao/Documents/data/NeuroTycho/results/psd/1sec_win/fooof/1_EyesClosed_Ketamine_20120724KT_Anesthesia_and_Sleep_George_Toru_Yanagawa_mat_ECoG128.npz\n",
      "/Users/rdgao/Documents/data/NeuroTycho/results/psd/1sec_win/fooof/1_EyesClosed_Ketamine_20120810KT_Anesthesia_and_Sleep_George_Toru_Yanagawa_mat_ECoG128.npz\n",
      "/Users/rdgao/Documents/data/NeuroTycho/results/psd/1sec_win/fooof/1_EyesClosed_Ketamine_20120813KT_Anesthesia_and_Sleep_Chibi_Toru_Yanagawa_mat_ECoG128.npz\n",
      "/Users/rdgao/Documents/data/NeuroTycho/results/psd/1sec_win/fooof/1_EyesClosed_Propofol_20120730PF_Anesthesia_and_Sleep_Chibi_Toru_Yanagawa_mat_ECoG128.npz\n",
      "/Users/rdgao/Documents/data/NeuroTycho/results/psd/1sec_win/fooof/1_EyesClosed_Propofol_20120731PF_Anesthesia_and_Sleep_George_Toru_Yanagawa_mat_ECoG128.npz\n"
     ]
    },
    {
     "name": "stderr",
     "output_type": "stream",
     "text": [
      "/Users/rdgao/Documents/code/research/fooof/fooof/core/funcs.py:65: RuntimeWarning: invalid value encountered in log10\n",
      "  ys = ys + offset - np.log10(knee + xs**exp)\n",
      "/Users/rdgao/Documents/code/research/fooof/fooof/core/funcs.py:65: RuntimeWarning: invalid value encountered in log10\n",
      "  ys = ys + offset - np.log10(knee + xs**exp)\n"
     ]
    },
    {
     "name": "stdout",
     "output_type": "stream",
     "text": [
      "/Users/rdgao/Documents/data/NeuroTycho/results/psd/1sec_win/fooof/1_EyesClosed_Propofol_20120802PF_Anesthesia_and_Sleep_Chibi_Toru_Yanagawa_mat_ECoG128.npz\n",
      "/Users/rdgao/Documents/data/NeuroTycho/results/psd/1sec_win/fooof/1_EyesClosed_Propofol_20120803PF_Anesthesia_and_Sleep_George_Toru_Yanagawa_mat_ECoG128.npz\n",
      "/Users/rdgao/Documents/data/NeuroTycho/results/psd/1sec_win/fooof/2_Delivery_Ketamine_20120719KT_Anesthesia_and_Sleep_Chibi_Toru_Yanagawa_mat_ECoG128.npz\n",
      "/Users/rdgao/Documents/data/NeuroTycho/results/psd/1sec_win/fooof/2_Delivery_Ketamine_20120724KT_Anesthesia_and_Sleep_George_Toru_Yanagawa_mat_ECoG128.npz\n",
      "/Users/rdgao/Documents/data/NeuroTycho/results/psd/1sec_win/fooof/2_Delivery_Ketamine_20120810KT_Anesthesia_and_Sleep_George_Toru_Yanagawa_mat_ECoG128.npz\n"
     ]
    },
    {
     "name": "stderr",
     "output_type": "stream",
     "text": [
      "/Users/rdgao/Documents/code/research/fooof/fooof/core/funcs.py:65: RuntimeWarning: invalid value encountered in log10\n",
      "  ys = ys + offset - np.log10(knee + xs**exp)\n",
      "/Users/rdgao/Documents/code/research/fooof/fooof/core/funcs.py:65: RuntimeWarning: invalid value encountered in log10\n",
      "  ys = ys + offset - np.log10(knee + xs**exp)\n"
     ]
    },
    {
     "name": "stdout",
     "output_type": "stream",
     "text": [
      "/Users/rdgao/Documents/data/NeuroTycho/results/psd/1sec_win/fooof/2_Delivery_Ketamine_20120813KT_Anesthesia_and_Sleep_Chibi_Toru_Yanagawa_mat_ECoG128.npz\n",
      "/Users/rdgao/Documents/data/NeuroTycho/results/psd/1sec_win/fooof/2_Delivery_Propofol_20120730PF_Anesthesia_and_Sleep_Chibi_Toru_Yanagawa_mat_ECoG128.npz\n"
     ]
    },
    {
     "name": "stderr",
     "output_type": "stream",
     "text": [
      "/Users/rdgao/Documents/code/research/fooof/fooof/core/funcs.py:65: RuntimeWarning: invalid value encountered in log10\n",
      "  ys = ys + offset - np.log10(knee + xs**exp)\n",
      "/Users/rdgao/Documents/code/research/fooof/fooof/core/funcs.py:65: RuntimeWarning: invalid value encountered in log10\n",
      "  ys = ys + offset - np.log10(knee + xs**exp)\n",
      "/Users/rdgao/Documents/code/research/fooof/fooof/core/funcs.py:65: RuntimeWarning: invalid value encountered in log10\n",
      "  ys = ys + offset - np.log10(knee + xs**exp)\n",
      "/Users/rdgao/Documents/code/research/fooof/fooof/core/funcs.py:65: RuntimeWarning: invalid value encountered in log10\n",
      "  ys = ys + offset - np.log10(knee + xs**exp)\n",
      "/Users/rdgao/Documents/code/research/fooof/fooof/core/funcs.py:65: RuntimeWarning: invalid value encountered in log10\n",
      "  ys = ys + offset - np.log10(knee + xs**exp)\n",
      "/Users/rdgao/Documents/code/research/fooof/fooof/core/funcs.py:65: RuntimeWarning: invalid value encountered in log10\n",
      "  ys = ys + offset - np.log10(knee + xs**exp)\n",
      "/Users/rdgao/Documents/code/research/fooof/fooof/core/funcs.py:65: RuntimeWarning: invalid value encountered in log10\n",
      "  ys = ys + offset - np.log10(knee + xs**exp)\n",
      "/Users/rdgao/Documents/code/research/fooof/fooof/core/funcs.py:65: RuntimeWarning: invalid value encountered in log10\n",
      "  ys = ys + offset - np.log10(knee + xs**exp)\n",
      "/Users/rdgao/Documents/code/research/fooof/fooof/core/funcs.py:65: RuntimeWarning: invalid value encountered in log10\n",
      "  ys = ys + offset - np.log10(knee + xs**exp)\n",
      "/Users/rdgao/Documents/code/research/fooof/fooof/core/funcs.py:65: RuntimeWarning: invalid value encountered in log10\n",
      "  ys = ys + offset - np.log10(knee + xs**exp)\n",
      "/Users/rdgao/Documents/code/research/fooof/fooof/core/funcs.py:65: RuntimeWarning: invalid value encountered in log10\n",
      "  ys = ys + offset - np.log10(knee + xs**exp)\n",
      "/Users/rdgao/Documents/code/research/fooof/fooof/core/funcs.py:65: RuntimeWarning: invalid value encountered in log10\n",
      "  ys = ys + offset - np.log10(knee + xs**exp)\n",
      "/Users/rdgao/Documents/code/research/fooof/fooof/core/funcs.py:65: RuntimeWarning: invalid value encountered in log10\n",
      "  ys = ys + offset - np.log10(knee + xs**exp)\n",
      "/Users/rdgao/Documents/code/research/fooof/fooof/core/funcs.py:65: RuntimeWarning: invalid value encountered in log10\n",
      "  ys = ys + offset - np.log10(knee + xs**exp)\n",
      "/Users/rdgao/Documents/code/research/fooof/fooof/core/funcs.py:65: RuntimeWarning: invalid value encountered in log10\n",
      "  ys = ys + offset - np.log10(knee + xs**exp)\n",
      "/Users/rdgao/Documents/code/research/fooof/fooof/core/funcs.py:65: RuntimeWarning: invalid value encountered in log10\n",
      "  ys = ys + offset - np.log10(knee + xs**exp)\n",
      "/Users/rdgao/Documents/code/research/fooof/fooof/core/funcs.py:65: RuntimeWarning: invalid value encountered in log10\n",
      "  ys = ys + offset - np.log10(knee + xs**exp)\n",
      "/Users/rdgao/Documents/code/research/fooof/fooof/core/funcs.py:65: RuntimeWarning: invalid value encountered in log10\n",
      "  ys = ys + offset - np.log10(knee + xs**exp)\n",
      "/Users/rdgao/Documents/code/research/fooof/fooof/core/funcs.py:65: RuntimeWarning: invalid value encountered in log10\n",
      "  ys = ys + offset - np.log10(knee + xs**exp)\n",
      "/Users/rdgao/Documents/code/research/fooof/fooof/core/funcs.py:65: RuntimeWarning: invalid value encountered in log10\n",
      "  ys = ys + offset - np.log10(knee + xs**exp)\n",
      "/Users/rdgao/Documents/code/research/fooof/fooof/core/funcs.py:65: RuntimeWarning: invalid value encountered in log10\n",
      "  ys = ys + offset - np.log10(knee + xs**exp)\n",
      "/Users/rdgao/Documents/code/research/fooof/fooof/core/funcs.py:65: RuntimeWarning: invalid value encountered in log10\n",
      "  ys = ys + offset - np.log10(knee + xs**exp)\n",
      "/Users/rdgao/Documents/code/research/fooof/fooof/core/funcs.py:65: RuntimeWarning: invalid value encountered in log10\n",
      "  ys = ys + offset - np.log10(knee + xs**exp)\n",
      "/Users/rdgao/Documents/code/research/fooof/fooof/core/funcs.py:65: RuntimeWarning: invalid value encountered in log10\n",
      "  ys = ys + offset - np.log10(knee + xs**exp)\n",
      "/Users/rdgao/Documents/code/research/fooof/fooof/core/funcs.py:65: RuntimeWarning: invalid value encountered in log10\n",
      "  ys = ys + offset - np.log10(knee + xs**exp)\n",
      "/Users/rdgao/Documents/code/research/fooof/fooof/core/funcs.py:65: RuntimeWarning: invalid value encountered in log10\n",
      "  ys = ys + offset - np.log10(knee + xs**exp)\n",
      "/Users/rdgao/Documents/code/research/fooof/fooof/core/funcs.py:65: RuntimeWarning: invalid value encountered in log10\n",
      "  ys = ys + offset - np.log10(knee + xs**exp)\n",
      "/Users/rdgao/Documents/code/research/fooof/fooof/core/funcs.py:65: RuntimeWarning: invalid value encountered in log10\n",
      "  ys = ys + offset - np.log10(knee + xs**exp)\n",
      "/Users/rdgao/Documents/code/research/fooof/fooof/core/funcs.py:65: RuntimeWarning: invalid value encountered in log10\n",
      "  ys = ys + offset - np.log10(knee + xs**exp)\n",
      "/Users/rdgao/Documents/code/research/fooof/fooof/core/funcs.py:65: RuntimeWarning: invalid value encountered in log10\n",
      "  ys = ys + offset - np.log10(knee + xs**exp)\n",
      "/Users/rdgao/Documents/code/research/fooof/fooof/core/funcs.py:65: RuntimeWarning: invalid value encountered in log10\n",
      "  ys = ys + offset - np.log10(knee + xs**exp)\n",
      "/Users/rdgao/Documents/code/research/fooof/fooof/core/funcs.py:65: RuntimeWarning: invalid value encountered in log10\n",
      "  ys = ys + offset - np.log10(knee + xs**exp)\n",
      "/Users/rdgao/Documents/code/research/fooof/fooof/core/funcs.py:65: RuntimeWarning: invalid value encountered in log10\n",
      "  ys = ys + offset - np.log10(knee + xs**exp)\n",
      "/Users/rdgao/Documents/code/research/fooof/fooof/core/funcs.py:65: RuntimeWarning: invalid value encountered in log10\n",
      "  ys = ys + offset - np.log10(knee + xs**exp)\n",
      "/Users/rdgao/Documents/code/research/fooof/fooof/core/funcs.py:65: RuntimeWarning: invalid value encountered in log10\n",
      "  ys = ys + offset - np.log10(knee + xs**exp)\n",
      "/Users/rdgao/Documents/code/research/fooof/fooof/core/funcs.py:65: RuntimeWarning: invalid value encountered in log10\n",
      "  ys = ys + offset - np.log10(knee + xs**exp)\n",
      "/Users/rdgao/Documents/code/research/fooof/fooof/core/funcs.py:65: RuntimeWarning: invalid value encountered in log10\n",
      "  ys = ys + offset - np.log10(knee + xs**exp)\n",
      "/Users/rdgao/Documents/code/research/fooof/fooof/core/funcs.py:65: RuntimeWarning: invalid value encountered in log10\n",
      "  ys = ys + offset - np.log10(knee + xs**exp)\n",
      "/Users/rdgao/Documents/code/research/fooof/fooof/core/funcs.py:65: RuntimeWarning: invalid value encountered in log10\n",
      "  ys = ys + offset - np.log10(knee + xs**exp)\n",
      "/Users/rdgao/Documents/code/research/fooof/fooof/core/funcs.py:65: RuntimeWarning: invalid value encountered in log10\n",
      "  ys = ys + offset - np.log10(knee + xs**exp)\n",
      "/Users/rdgao/Documents/code/research/fooof/fooof/core/funcs.py:65: RuntimeWarning: invalid value encountered in log10\n",
      "  ys = ys + offset - np.log10(knee + xs**exp)\n",
      "/Users/rdgao/Documents/code/research/fooof/fooof/core/funcs.py:65: RuntimeWarning: invalid value encountered in log10\n",
      "  ys = ys + offset - np.log10(knee + xs**exp)\n",
      "/Users/rdgao/Documents/code/research/fooof/fooof/core/funcs.py:65: RuntimeWarning: invalid value encountered in log10\n",
      "  ys = ys + offset - np.log10(knee + xs**exp)\n",
      "/Users/rdgao/Documents/code/research/fooof/fooof/core/funcs.py:65: RuntimeWarning: invalid value encountered in log10\n",
      "  ys = ys + offset - np.log10(knee + xs**exp)\n"
     ]
    },
    {
     "name": "stdout",
     "output_type": "stream",
     "text": [
      "/Users/rdgao/Documents/data/NeuroTycho/results/psd/1sec_win/fooof/2_Delivery_Propofol_20120731PF_Anesthesia_and_Sleep_George_Toru_Yanagawa_mat_ECoG128.npz\n"
     ]
    },
    {
     "name": "stderr",
     "output_type": "stream",
     "text": [
      "/Users/rdgao/Documents/code/research/fooof/fooof/core/funcs.py:65: RuntimeWarning: invalid value encountered in log10\n",
      "  ys = ys + offset - np.log10(knee + xs**exp)\n",
      "/Users/rdgao/Documents/code/research/fooof/fooof/core/funcs.py:65: RuntimeWarning: invalid value encountered in log10\n",
      "  ys = ys + offset - np.log10(knee + xs**exp)\n",
      "/Users/rdgao/Documents/code/research/fooof/fooof/core/funcs.py:65: RuntimeWarning: invalid value encountered in log10\n",
      "  ys = ys + offset - np.log10(knee + xs**exp)\n",
      "/Users/rdgao/Documents/code/research/fooof/fooof/core/funcs.py:65: RuntimeWarning: invalid value encountered in log10\n",
      "  ys = ys + offset - np.log10(knee + xs**exp)\n"
     ]
    },
    {
     "name": "stdout",
     "output_type": "stream",
     "text": [
      "/Users/rdgao/Documents/data/NeuroTycho/results/psd/1sec_win/fooof/2_Delivery_Propofol_20120802PF_Anesthesia_and_Sleep_Chibi_Toru_Yanagawa_mat_ECoG128.npz\n"
     ]
    },
    {
     "name": "stderr",
     "output_type": "stream",
     "text": [
      "/Users/rdgao/Documents/code/research/fooof/fooof/core/funcs.py:65: RuntimeWarning: invalid value encountered in log10\n",
      "  ys = ys + offset - np.log10(knee + xs**exp)\n",
      "/Users/rdgao/Documents/code/research/fooof/fooof/core/funcs.py:65: RuntimeWarning: invalid value encountered in log10\n",
      "  ys = ys + offset - np.log10(knee + xs**exp)\n",
      "/Users/rdgao/Documents/code/research/fooof/fooof/core/funcs.py:65: RuntimeWarning: invalid value encountered in log10\n",
      "  ys = ys + offset - np.log10(knee + xs**exp)\n",
      "/Users/rdgao/Documents/code/research/fooof/fooof/core/funcs.py:65: RuntimeWarning: invalid value encountered in log10\n",
      "  ys = ys + offset - np.log10(knee + xs**exp)\n",
      "/Users/rdgao/Documents/code/research/fooof/fooof/core/funcs.py:65: RuntimeWarning: invalid value encountered in log10\n",
      "  ys = ys + offset - np.log10(knee + xs**exp)\n",
      "/Users/rdgao/Documents/code/research/fooof/fooof/core/funcs.py:65: RuntimeWarning: invalid value encountered in log10\n",
      "  ys = ys + offset - np.log10(knee + xs**exp)\n",
      "/Users/rdgao/Documents/code/research/fooof/fooof/core/funcs.py:65: RuntimeWarning: invalid value encountered in log10\n",
      "  ys = ys + offset - np.log10(knee + xs**exp)\n",
      "/Users/rdgao/Documents/code/research/fooof/fooof/core/funcs.py:65: RuntimeWarning: invalid value encountered in log10\n",
      "  ys = ys + offset - np.log10(knee + xs**exp)\n",
      "/Users/rdgao/Documents/code/research/fooof/fooof/core/funcs.py:65: RuntimeWarning: invalid value encountered in log10\n",
      "  ys = ys + offset - np.log10(knee + xs**exp)\n",
      "/Users/rdgao/Documents/code/research/fooof/fooof/core/funcs.py:65: RuntimeWarning: invalid value encountered in log10\n",
      "  ys = ys + offset - np.log10(knee + xs**exp)\n",
      "/Users/rdgao/Documents/code/research/fooof/fooof/core/funcs.py:65: RuntimeWarning: invalid value encountered in log10\n",
      "  ys = ys + offset - np.log10(knee + xs**exp)\n",
      "/Users/rdgao/Documents/code/research/fooof/fooof/core/funcs.py:65: RuntimeWarning: invalid value encountered in log10\n",
      "  ys = ys + offset - np.log10(knee + xs**exp)\n",
      "/Users/rdgao/Documents/code/research/fooof/fooof/core/funcs.py:65: RuntimeWarning: invalid value encountered in log10\n",
      "  ys = ys + offset - np.log10(knee + xs**exp)\n",
      "/Users/rdgao/Documents/code/research/fooof/fooof/core/funcs.py:65: RuntimeWarning: invalid value encountered in log10\n",
      "  ys = ys + offset - np.log10(knee + xs**exp)\n",
      "/Users/rdgao/Documents/code/research/fooof/fooof/core/funcs.py:65: RuntimeWarning: invalid value encountered in log10\n",
      "  ys = ys + offset - np.log10(knee + xs**exp)\n",
      "/Users/rdgao/Documents/code/research/fooof/fooof/core/funcs.py:65: RuntimeWarning: invalid value encountered in log10\n",
      "  ys = ys + offset - np.log10(knee + xs**exp)\n",
      "/Users/rdgao/Documents/code/research/fooof/fooof/core/funcs.py:65: RuntimeWarning: invalid value encountered in log10\n",
      "  ys = ys + offset - np.log10(knee + xs**exp)\n",
      "/Users/rdgao/Documents/code/research/fooof/fooof/core/funcs.py:65: RuntimeWarning: invalid value encountered in log10\n",
      "  ys = ys + offset - np.log10(knee + xs**exp)\n",
      "/Users/rdgao/Documents/code/research/fooof/fooof/core/funcs.py:65: RuntimeWarning: invalid value encountered in log10\n",
      "  ys = ys + offset - np.log10(knee + xs**exp)\n",
      "/Users/rdgao/Documents/code/research/fooof/fooof/core/funcs.py:65: RuntimeWarning: invalid value encountered in log10\n",
      "  ys = ys + offset - np.log10(knee + xs**exp)\n",
      "/Users/rdgao/Documents/code/research/fooof/fooof/core/funcs.py:65: RuntimeWarning: invalid value encountered in log10\n",
      "  ys = ys + offset - np.log10(knee + xs**exp)\n",
      "/Users/rdgao/Documents/code/research/fooof/fooof/core/funcs.py:65: RuntimeWarning: invalid value encountered in log10\n",
      "  ys = ys + offset - np.log10(knee + xs**exp)\n",
      "/Users/rdgao/Documents/code/research/fooof/fooof/core/funcs.py:65: RuntimeWarning: invalid value encountered in log10\n",
      "  ys = ys + offset - np.log10(knee + xs**exp)\n",
      "/Users/rdgao/Documents/code/research/fooof/fooof/core/funcs.py:65: RuntimeWarning: invalid value encountered in log10\n",
      "  ys = ys + offset - np.log10(knee + xs**exp)\n",
      "/Users/rdgao/Documents/code/research/fooof/fooof/core/funcs.py:65: RuntimeWarning: invalid value encountered in log10\n",
      "  ys = ys + offset - np.log10(knee + xs**exp)\n",
      "/Users/rdgao/Documents/code/research/fooof/fooof/core/funcs.py:65: RuntimeWarning: invalid value encountered in log10\n",
      "  ys = ys + offset - np.log10(knee + xs**exp)\n",
      "/Users/rdgao/Documents/code/research/fooof/fooof/core/funcs.py:65: RuntimeWarning: invalid value encountered in log10\n",
      "  ys = ys + offset - np.log10(knee + xs**exp)\n",
      "/Users/rdgao/Documents/code/research/fooof/fooof/core/funcs.py:65: RuntimeWarning: invalid value encountered in log10\n",
      "  ys = ys + offset - np.log10(knee + xs**exp)\n",
      "/Users/rdgao/Documents/code/research/fooof/fooof/core/funcs.py:65: RuntimeWarning: invalid value encountered in log10\n",
      "  ys = ys + offset - np.log10(knee + xs**exp)\n",
      "/Users/rdgao/Documents/code/research/fooof/fooof/core/funcs.py:65: RuntimeWarning: invalid value encountered in log10\n",
      "  ys = ys + offset - np.log10(knee + xs**exp)\n",
      "/Users/rdgao/Documents/code/research/fooof/fooof/core/funcs.py:65: RuntimeWarning: invalid value encountered in log10\n",
      "  ys = ys + offset - np.log10(knee + xs**exp)\n",
      "/Users/rdgao/Documents/code/research/fooof/fooof/core/funcs.py:65: RuntimeWarning: invalid value encountered in log10\n",
      "  ys = ys + offset - np.log10(knee + xs**exp)\n",
      "/Users/rdgao/Documents/code/research/fooof/fooof/core/funcs.py:65: RuntimeWarning: invalid value encountered in log10\n",
      "  ys = ys + offset - np.log10(knee + xs**exp)\n",
      "/Users/rdgao/Documents/code/research/fooof/fooof/core/funcs.py:65: RuntimeWarning: invalid value encountered in log10\n",
      "  ys = ys + offset - np.log10(knee + xs**exp)\n",
      "/Users/rdgao/Documents/code/research/fooof/fooof/core/funcs.py:65: RuntimeWarning: invalid value encountered in log10\n",
      "  ys = ys + offset - np.log10(knee + xs**exp)\n",
      "/Users/rdgao/Documents/code/research/fooof/fooof/core/funcs.py:65: RuntimeWarning: invalid value encountered in log10\n",
      "  ys = ys + offset - np.log10(knee + xs**exp)\n",
      "/Users/rdgao/Documents/code/research/fooof/fooof/core/funcs.py:65: RuntimeWarning: invalid value encountered in log10\n",
      "  ys = ys + offset - np.log10(knee + xs**exp)\n",
      "/Users/rdgao/Documents/code/research/fooof/fooof/core/funcs.py:65: RuntimeWarning: invalid value encountered in log10\n",
      "  ys = ys + offset - np.log10(knee + xs**exp)\n",
      "/Users/rdgao/Documents/code/research/fooof/fooof/core/funcs.py:65: RuntimeWarning: invalid value encountered in log10\n",
      "  ys = ys + offset - np.log10(knee + xs**exp)\n",
      "/Users/rdgao/Documents/code/research/fooof/fooof/core/funcs.py:65: RuntimeWarning: invalid value encountered in log10\n",
      "  ys = ys + offset - np.log10(knee + xs**exp)\n",
      "/Users/rdgao/Documents/code/research/fooof/fooof/core/funcs.py:65: RuntimeWarning: invalid value encountered in log10\n",
      "  ys = ys + offset - np.log10(knee + xs**exp)\n",
      "/Users/rdgao/Documents/code/research/fooof/fooof/core/funcs.py:65: RuntimeWarning: invalid value encountered in log10\n",
      "  ys = ys + offset - np.log10(knee + xs**exp)\n",
      "/Users/rdgao/Documents/code/research/fooof/fooof/core/funcs.py:65: RuntimeWarning: invalid value encountered in log10\n",
      "  ys = ys + offset - np.log10(knee + xs**exp)\n",
      "/Users/rdgao/Documents/code/research/fooof/fooof/core/funcs.py:65: RuntimeWarning: invalid value encountered in log10\n",
      "  ys = ys + offset - np.log10(knee + xs**exp)\n",
      "/Users/rdgao/Documents/code/research/fooof/fooof/core/funcs.py:65: RuntimeWarning: invalid value encountered in log10\n",
      "  ys = ys + offset - np.log10(knee + xs**exp)\n",
      "/Users/rdgao/Documents/code/research/fooof/fooof/core/funcs.py:65: RuntimeWarning: invalid value encountered in log10\n",
      "  ys = ys + offset - np.log10(knee + xs**exp)\n",
      "/Users/rdgao/Documents/code/research/fooof/fooof/core/funcs.py:65: RuntimeWarning: invalid value encountered in log10\n",
      "  ys = ys + offset - np.log10(knee + xs**exp)\n",
      "/Users/rdgao/Documents/code/research/fooof/fooof/core/funcs.py:65: RuntimeWarning: invalid value encountered in log10\n",
      "  ys = ys + offset - np.log10(knee + xs**exp)\n",
      "/Users/rdgao/Documents/code/research/fooof/fooof/core/funcs.py:65: RuntimeWarning: invalid value encountered in log10\n",
      "  ys = ys + offset - np.log10(knee + xs**exp)\n",
      "/Users/rdgao/Documents/code/research/fooof/fooof/core/funcs.py:65: RuntimeWarning: invalid value encountered in log10\n",
      "  ys = ys + offset - np.log10(knee + xs**exp)\n"
     ]
    },
    {
     "name": "stderr",
     "output_type": "stream",
     "text": [
      "/Users/rdgao/Documents/code/research/fooof/fooof/core/funcs.py:65: RuntimeWarning: invalid value encountered in log10\n",
      "  ys = ys + offset - np.log10(knee + xs**exp)\n",
      "/Users/rdgao/Documents/code/research/fooof/fooof/core/funcs.py:65: RuntimeWarning: invalid value encountered in log10\n",
      "  ys = ys + offset - np.log10(knee + xs**exp)\n",
      "/Users/rdgao/Documents/code/research/fooof/fooof/core/funcs.py:65: RuntimeWarning: invalid value encountered in log10\n",
      "  ys = ys + offset - np.log10(knee + xs**exp)\n",
      "/Users/rdgao/Documents/code/research/fooof/fooof/core/funcs.py:65: RuntimeWarning: invalid value encountered in log10\n",
      "  ys = ys + offset - np.log10(knee + xs**exp)\n",
      "/Users/rdgao/Documents/code/research/fooof/fooof/core/funcs.py:65: RuntimeWarning: invalid value encountered in log10\n",
      "  ys = ys + offset - np.log10(knee + xs**exp)\n",
      "/Users/rdgao/Documents/code/research/fooof/fooof/core/funcs.py:65: RuntimeWarning: invalid value encountered in log10\n",
      "  ys = ys + offset - np.log10(knee + xs**exp)\n",
      "/Users/rdgao/Documents/code/research/fooof/fooof/core/funcs.py:65: RuntimeWarning: invalid value encountered in log10\n",
      "  ys = ys + offset - np.log10(knee + xs**exp)\n",
      "/Users/rdgao/Documents/code/research/fooof/fooof/core/funcs.py:65: RuntimeWarning: invalid value encountered in log10\n",
      "  ys = ys + offset - np.log10(knee + xs**exp)\n",
      "/Users/rdgao/Documents/code/research/fooof/fooof/core/funcs.py:65: RuntimeWarning: invalid value encountered in log10\n",
      "  ys = ys + offset - np.log10(knee + xs**exp)\n",
      "/Users/rdgao/Documents/code/research/fooof/fooof/core/funcs.py:65: RuntimeWarning: invalid value encountered in log10\n",
      "  ys = ys + offset - np.log10(knee + xs**exp)\n",
      "/Users/rdgao/Documents/code/research/fooof/fooof/core/funcs.py:65: RuntimeWarning: invalid value encountered in log10\n",
      "  ys = ys + offset - np.log10(knee + xs**exp)\n",
      "/Users/rdgao/Documents/code/research/fooof/fooof/core/funcs.py:65: RuntimeWarning: invalid value encountered in log10\n",
      "  ys = ys + offset - np.log10(knee + xs**exp)\n",
      "/Users/rdgao/Documents/code/research/fooof/fooof/core/funcs.py:65: RuntimeWarning: invalid value encountered in log10\n",
      "  ys = ys + offset - np.log10(knee + xs**exp)\n",
      "/Users/rdgao/Documents/code/research/fooof/fooof/core/funcs.py:65: RuntimeWarning: invalid value encountered in log10\n",
      "  ys = ys + offset - np.log10(knee + xs**exp)\n",
      "/Users/rdgao/Documents/code/research/fooof/fooof/core/funcs.py:65: RuntimeWarning: invalid value encountered in log10\n",
      "  ys = ys + offset - np.log10(knee + xs**exp)\n",
      "/Users/rdgao/Documents/code/research/fooof/fooof/core/funcs.py:65: RuntimeWarning: invalid value encountered in log10\n",
      "  ys = ys + offset - np.log10(knee + xs**exp)\n",
      "/Users/rdgao/Documents/code/research/fooof/fooof/core/funcs.py:65: RuntimeWarning: invalid value encountered in log10\n",
      "  ys = ys + offset - np.log10(knee + xs**exp)\n",
      "/Users/rdgao/Documents/code/research/fooof/fooof/core/funcs.py:65: RuntimeWarning: invalid value encountered in log10\n",
      "  ys = ys + offset - np.log10(knee + xs**exp)\n",
      "/Users/rdgao/Documents/code/research/fooof/fooof/core/funcs.py:65: RuntimeWarning: invalid value encountered in log10\n",
      "  ys = ys + offset - np.log10(knee + xs**exp)\n",
      "/Users/rdgao/Documents/code/research/fooof/fooof/core/funcs.py:65: RuntimeWarning: invalid value encountered in log10\n",
      "  ys = ys + offset - np.log10(knee + xs**exp)\n",
      "/Users/rdgao/Documents/code/research/fooof/fooof/core/funcs.py:65: RuntimeWarning: invalid value encountered in log10\n",
      "  ys = ys + offset - np.log10(knee + xs**exp)\n",
      "/Users/rdgao/Documents/code/research/fooof/fooof/core/funcs.py:65: RuntimeWarning: invalid value encountered in log10\n",
      "  ys = ys + offset - np.log10(knee + xs**exp)\n",
      "/Users/rdgao/Documents/code/research/fooof/fooof/core/funcs.py:65: RuntimeWarning: invalid value encountered in log10\n",
      "  ys = ys + offset - np.log10(knee + xs**exp)\n",
      "/Users/rdgao/Documents/code/research/fooof/fooof/core/funcs.py:65: RuntimeWarning: invalid value encountered in log10\n",
      "  ys = ys + offset - np.log10(knee + xs**exp)\n",
      "/Users/rdgao/Documents/code/research/fooof/fooof/core/funcs.py:65: RuntimeWarning: invalid value encountered in log10\n",
      "  ys = ys + offset - np.log10(knee + xs**exp)\n",
      "/Users/rdgao/Documents/code/research/fooof/fooof/core/funcs.py:65: RuntimeWarning: invalid value encountered in log10\n",
      "  ys = ys + offset - np.log10(knee + xs**exp)\n",
      "/Users/rdgao/Documents/code/research/fooof/fooof/core/funcs.py:65: RuntimeWarning: invalid value encountered in log10\n",
      "  ys = ys + offset - np.log10(knee + xs**exp)\n",
      "/Users/rdgao/Documents/code/research/fooof/fooof/core/funcs.py:65: RuntimeWarning: invalid value encountered in log10\n",
      "  ys = ys + offset - np.log10(knee + xs**exp)\n",
      "/Users/rdgao/Documents/code/research/fooof/fooof/core/funcs.py:65: RuntimeWarning: invalid value encountered in log10\n",
      "  ys = ys + offset - np.log10(knee + xs**exp)\n",
      "/Users/rdgao/Documents/code/research/fooof/fooof/core/funcs.py:65: RuntimeWarning: invalid value encountered in log10\n",
      "  ys = ys + offset - np.log10(knee + xs**exp)\n",
      "/Users/rdgao/Documents/code/research/fooof/fooof/core/funcs.py:65: RuntimeWarning: invalid value encountered in log10\n",
      "  ys = ys + offset - np.log10(knee + xs**exp)\n",
      "/Users/rdgao/Documents/code/research/fooof/fooof/core/funcs.py:65: RuntimeWarning: invalid value encountered in log10\n",
      "  ys = ys + offset - np.log10(knee + xs**exp)\n",
      "/Users/rdgao/Documents/code/research/fooof/fooof/core/funcs.py:65: RuntimeWarning: invalid value encountered in log10\n",
      "  ys = ys + offset - np.log10(knee + xs**exp)\n",
      "/Users/rdgao/Documents/code/research/fooof/fooof/core/funcs.py:65: RuntimeWarning: invalid value encountered in log10\n",
      "  ys = ys + offset - np.log10(knee + xs**exp)\n",
      "/Users/rdgao/Documents/code/research/fooof/fooof/core/funcs.py:65: RuntimeWarning: invalid value encountered in log10\n",
      "  ys = ys + offset - np.log10(knee + xs**exp)\n",
      "/Users/rdgao/Documents/code/research/fooof/fooof/core/funcs.py:65: RuntimeWarning: invalid value encountered in log10\n",
      "  ys = ys + offset - np.log10(knee + xs**exp)\n"
     ]
    },
    {
     "name": "stdout",
     "output_type": "stream",
     "text": [
      "/Users/rdgao/Documents/data/NeuroTycho/results/psd/1sec_win/fooof/2_Delivery_Propofol_20120803PF_Anesthesia_and_Sleep_George_Toru_Yanagawa_mat_ECoG128.npz\n"
     ]
    },
    {
     "name": "stderr",
     "output_type": "stream",
     "text": [
      "/Users/rdgao/Documents/code/research/fooof/fooof/core/funcs.py:65: RuntimeWarning: invalid value encountered in log10\n",
      "  ys = ys + offset - np.log10(knee + xs**exp)\n",
      "/Users/rdgao/Documents/code/research/fooof/fooof/core/funcs.py:65: RuntimeWarning: invalid value encountered in log10\n",
      "  ys = ys + offset - np.log10(knee + xs**exp)\n",
      "/Users/rdgao/Documents/code/research/fooof/fooof/core/funcs.py:65: RuntimeWarning: invalid value encountered in log10\n",
      "  ys = ys + offset - np.log10(knee + xs**exp)\n",
      "/Users/rdgao/Documents/code/research/fooof/fooof/core/funcs.py:65: RuntimeWarning: invalid value encountered in log10\n",
      "  ys = ys + offset - np.log10(knee + xs**exp)\n",
      "/Users/rdgao/Documents/code/research/fooof/fooof/core/funcs.py:65: RuntimeWarning: invalid value encountered in log10\n",
      "  ys = ys + offset - np.log10(knee + xs**exp)\n"
     ]
    },
    {
     "name": "stdout",
     "output_type": "stream",
     "text": [
      "/Users/rdgao/Documents/data/NeuroTycho/results/psd/1sec_win/fooof/3_Anesthesia_Ketamine_20120719KT_Anesthesia_and_Sleep_Chibi_Toru_Yanagawa_mat_ECoG128.npz\n"
     ]
    },
    {
     "name": "stderr",
     "output_type": "stream",
     "text": [
      "/Users/rdgao/Documents/code/research/fooof/fooof/core/funcs.py:65: RuntimeWarning: invalid value encountered in log10\n",
      "  ys = ys + offset - np.log10(knee + xs**exp)\n"
     ]
    },
    {
     "name": "stdout",
     "output_type": "stream",
     "text": [
      "/Users/rdgao/Documents/data/NeuroTycho/results/psd/1sec_win/fooof/3_Anesthesia_Ketamine_20120724KT_Anesthesia_and_Sleep_George_Toru_Yanagawa_mat_ECoG128.npz\n",
      "/Users/rdgao/Documents/data/NeuroTycho/results/psd/1sec_win/fooof/3_Anesthesia_Ketamine_20120810KT_Anesthesia_and_Sleep_George_Toru_Yanagawa_mat_ECoG128.npz\n",
      "/Users/rdgao/Documents/data/NeuroTycho/results/psd/1sec_win/fooof/3_Anesthesia_Ketamine_20120813KT_Anesthesia_and_Sleep_Chibi_Toru_Yanagawa_mat_ECoG128.npz\n",
      "/Users/rdgao/Documents/data/NeuroTycho/results/psd/1sec_win/fooof/3_Anesthesia_Propofol_20120730PF_Anesthesia_and_Sleep_Chibi_Toru_Yanagawa_mat_ECoG128.npz\n"
     ]
    },
    {
     "name": "stderr",
     "output_type": "stream",
     "text": [
      "/Users/rdgao/Documents/code/research/fooof/fooof/core/funcs.py:65: RuntimeWarning: invalid value encountered in log10\n",
      "  ys = ys + offset - np.log10(knee + xs**exp)\n",
      "/Users/rdgao/Documents/code/research/fooof/fooof/core/funcs.py:65: RuntimeWarning: invalid value encountered in log10\n",
      "  ys = ys + offset - np.log10(knee + xs**exp)\n",
      "/Users/rdgao/Documents/code/research/fooof/fooof/core/funcs.py:65: RuntimeWarning: invalid value encountered in log10\n",
      "  ys = ys + offset - np.log10(knee + xs**exp)\n",
      "/Users/rdgao/Documents/code/research/fooof/fooof/core/funcs.py:65: RuntimeWarning: invalid value encountered in log10\n",
      "  ys = ys + offset - np.log10(knee + xs**exp)\n",
      "/Users/rdgao/Documents/code/research/fooof/fooof/core/funcs.py:65: RuntimeWarning: invalid value encountered in log10\n",
      "  ys = ys + offset - np.log10(knee + xs**exp)\n",
      "/Users/rdgao/Documents/code/research/fooof/fooof/core/funcs.py:65: RuntimeWarning: invalid value encountered in log10\n",
      "  ys = ys + offset - np.log10(knee + xs**exp)\n",
      "/Users/rdgao/Documents/code/research/fooof/fooof/core/funcs.py:65: RuntimeWarning: invalid value encountered in log10\n",
      "  ys = ys + offset - np.log10(knee + xs**exp)\n",
      "/Users/rdgao/Documents/code/research/fooof/fooof/core/funcs.py:65: RuntimeWarning: invalid value encountered in log10\n",
      "  ys = ys + offset - np.log10(knee + xs**exp)\n",
      "/Users/rdgao/Documents/code/research/fooof/fooof/core/funcs.py:65: RuntimeWarning: invalid value encountered in log10\n",
      "  ys = ys + offset - np.log10(knee + xs**exp)\n",
      "/Users/rdgao/Documents/code/research/fooof/fooof/core/funcs.py:65: RuntimeWarning: invalid value encountered in log10\n",
      "  ys = ys + offset - np.log10(knee + xs**exp)\n",
      "/Users/rdgao/Documents/code/research/fooof/fooof/core/funcs.py:65: RuntimeWarning: invalid value encountered in log10\n",
      "  ys = ys + offset - np.log10(knee + xs**exp)\n",
      "/Users/rdgao/Documents/code/research/fooof/fooof/core/funcs.py:65: RuntimeWarning: invalid value encountered in log10\n",
      "  ys = ys + offset - np.log10(knee + xs**exp)\n",
      "/Users/rdgao/Documents/code/research/fooof/fooof/core/funcs.py:65: RuntimeWarning: invalid value encountered in log10\n",
      "  ys = ys + offset - np.log10(knee + xs**exp)\n",
      "/Users/rdgao/Documents/code/research/fooof/fooof/core/funcs.py:65: RuntimeWarning: invalid value encountered in log10\n",
      "  ys = ys + offset - np.log10(knee + xs**exp)\n",
      "/Users/rdgao/Documents/code/research/fooof/fooof/core/funcs.py:65: RuntimeWarning: invalid value encountered in log10\n",
      "  ys = ys + offset - np.log10(knee + xs**exp)\n",
      "/Users/rdgao/Documents/code/research/fooof/fooof/core/funcs.py:65: RuntimeWarning: invalid value encountered in log10\n",
      "  ys = ys + offset - np.log10(knee + xs**exp)\n",
      "/Users/rdgao/Documents/code/research/fooof/fooof/core/funcs.py:65: RuntimeWarning: invalid value encountered in log10\n",
      "  ys = ys + offset - np.log10(knee + xs**exp)\n",
      "/Users/rdgao/Documents/code/research/fooof/fooof/core/funcs.py:65: RuntimeWarning: invalid value encountered in log10\n",
      "  ys = ys + offset - np.log10(knee + xs**exp)\n",
      "/Users/rdgao/Documents/code/research/fooof/fooof/core/funcs.py:65: RuntimeWarning: invalid value encountered in log10\n",
      "  ys = ys + offset - np.log10(knee + xs**exp)\n",
      "/Users/rdgao/Documents/code/research/fooof/fooof/core/funcs.py:65: RuntimeWarning: invalid value encountered in log10\n",
      "  ys = ys + offset - np.log10(knee + xs**exp)\n",
      "/Users/rdgao/Documents/code/research/fooof/fooof/core/funcs.py:65: RuntimeWarning: invalid value encountered in log10\n",
      "  ys = ys + offset - np.log10(knee + xs**exp)\n",
      "/Users/rdgao/Documents/code/research/fooof/fooof/core/funcs.py:65: RuntimeWarning: invalid value encountered in log10\n",
      "  ys = ys + offset - np.log10(knee + xs**exp)\n",
      "/Users/rdgao/Documents/code/research/fooof/fooof/core/funcs.py:65: RuntimeWarning: invalid value encountered in log10\n",
      "  ys = ys + offset - np.log10(knee + xs**exp)\n",
      "/Users/rdgao/Documents/code/research/fooof/fooof/core/funcs.py:65: RuntimeWarning: invalid value encountered in log10\n",
      "  ys = ys + offset - np.log10(knee + xs**exp)\n",
      "/Users/rdgao/Documents/code/research/fooof/fooof/core/funcs.py:65: RuntimeWarning: invalid value encountered in log10\n",
      "  ys = ys + offset - np.log10(knee + xs**exp)\n",
      "/Users/rdgao/Documents/code/research/fooof/fooof/core/funcs.py:65: RuntimeWarning: invalid value encountered in log10\n",
      "  ys = ys + offset - np.log10(knee + xs**exp)\n",
      "/Users/rdgao/Documents/code/research/fooof/fooof/core/funcs.py:65: RuntimeWarning: invalid value encountered in log10\n",
      "  ys = ys + offset - np.log10(knee + xs**exp)\n",
      "/Users/rdgao/Documents/code/research/fooof/fooof/core/funcs.py:65: RuntimeWarning: invalid value encountered in log10\n",
      "  ys = ys + offset - np.log10(knee + xs**exp)\n",
      "/Users/rdgao/Documents/code/research/fooof/fooof/core/funcs.py:65: RuntimeWarning: invalid value encountered in log10\n",
      "  ys = ys + offset - np.log10(knee + xs**exp)\n",
      "/Users/rdgao/Documents/code/research/fooof/fooof/core/funcs.py:65: RuntimeWarning: invalid value encountered in log10\n",
      "  ys = ys + offset - np.log10(knee + xs**exp)\n",
      "/Users/rdgao/Documents/code/research/fooof/fooof/core/funcs.py:65: RuntimeWarning: invalid value encountered in log10\n",
      "  ys = ys + offset - np.log10(knee + xs**exp)\n",
      "/Users/rdgao/Documents/code/research/fooof/fooof/core/funcs.py:65: RuntimeWarning: invalid value encountered in log10\n",
      "  ys = ys + offset - np.log10(knee + xs**exp)\n",
      "/Users/rdgao/Documents/code/research/fooof/fooof/core/funcs.py:65: RuntimeWarning: invalid value encountered in log10\n",
      "  ys = ys + offset - np.log10(knee + xs**exp)\n",
      "/Users/rdgao/Documents/code/research/fooof/fooof/core/funcs.py:65: RuntimeWarning: invalid value encountered in log10\n",
      "  ys = ys + offset - np.log10(knee + xs**exp)\n",
      "/Users/rdgao/Documents/code/research/fooof/fooof/core/funcs.py:65: RuntimeWarning: invalid value encountered in log10\n",
      "  ys = ys + offset - np.log10(knee + xs**exp)\n",
      "/Users/rdgao/Documents/code/research/fooof/fooof/core/funcs.py:65: RuntimeWarning: invalid value encountered in log10\n",
      "  ys = ys + offset - np.log10(knee + xs**exp)\n",
      "/Users/rdgao/Documents/code/research/fooof/fooof/core/funcs.py:65: RuntimeWarning: invalid value encountered in log10\n",
      "  ys = ys + offset - np.log10(knee + xs**exp)\n",
      "/Users/rdgao/Documents/code/research/fooof/fooof/core/funcs.py:65: RuntimeWarning: invalid value encountered in log10\n",
      "  ys = ys + offset - np.log10(knee + xs**exp)\n",
      "/Users/rdgao/Documents/code/research/fooof/fooof/core/funcs.py:65: RuntimeWarning: invalid value encountered in log10\n",
      "  ys = ys + offset - np.log10(knee + xs**exp)\n",
      "/Users/rdgao/Documents/code/research/fooof/fooof/core/funcs.py:65: RuntimeWarning: invalid value encountered in log10\n",
      "  ys = ys + offset - np.log10(knee + xs**exp)\n",
      "/Users/rdgao/Documents/code/research/fooof/fooof/core/funcs.py:65: RuntimeWarning: invalid value encountered in log10\n",
      "  ys = ys + offset - np.log10(knee + xs**exp)\n",
      "/Users/rdgao/Documents/code/research/fooof/fooof/core/funcs.py:65: RuntimeWarning: invalid value encountered in log10\n",
      "  ys = ys + offset - np.log10(knee + xs**exp)\n",
      "/Users/rdgao/Documents/code/research/fooof/fooof/core/funcs.py:65: RuntimeWarning: invalid value encountered in log10\n",
      "  ys = ys + offset - np.log10(knee + xs**exp)\n",
      "/Users/rdgao/Documents/code/research/fooof/fooof/core/funcs.py:65: RuntimeWarning: invalid value encountered in log10\n",
      "  ys = ys + offset - np.log10(knee + xs**exp)\n",
      "/Users/rdgao/Documents/code/research/fooof/fooof/core/funcs.py:65: RuntimeWarning: invalid value encountered in log10\n",
      "  ys = ys + offset - np.log10(knee + xs**exp)\n",
      "/Users/rdgao/Documents/code/research/fooof/fooof/core/funcs.py:65: RuntimeWarning: invalid value encountered in log10\n",
      "  ys = ys + offset - np.log10(knee + xs**exp)\n",
      "/Users/rdgao/Documents/code/research/fooof/fooof/core/funcs.py:65: RuntimeWarning: invalid value encountered in log10\n",
      "  ys = ys + offset - np.log10(knee + xs**exp)\n",
      "/Users/rdgao/Documents/code/research/fooof/fooof/core/funcs.py:65: RuntimeWarning: invalid value encountered in log10\n",
      "  ys = ys + offset - np.log10(knee + xs**exp)\n",
      "/Users/rdgao/Documents/code/research/fooof/fooof/core/funcs.py:65: RuntimeWarning: invalid value encountered in log10\n",
      "  ys = ys + offset - np.log10(knee + xs**exp)\n",
      "/Users/rdgao/Documents/code/research/fooof/fooof/core/funcs.py:65: RuntimeWarning: invalid value encountered in log10\n",
      "  ys = ys + offset - np.log10(knee + xs**exp)\n",
      "/Users/rdgao/Documents/code/research/fooof/fooof/core/funcs.py:65: RuntimeWarning: invalid value encountered in log10\n",
      "  ys = ys + offset - np.log10(knee + xs**exp)\n",
      "/Users/rdgao/Documents/code/research/fooof/fooof/core/funcs.py:65: RuntimeWarning: invalid value encountered in log10\n",
      "  ys = ys + offset - np.log10(knee + xs**exp)\n",
      "/Users/rdgao/Documents/code/research/fooof/fooof/core/funcs.py:65: RuntimeWarning: invalid value encountered in log10\n",
      "  ys = ys + offset - np.log10(knee + xs**exp)\n",
      "/Users/rdgao/Documents/code/research/fooof/fooof/core/funcs.py:65: RuntimeWarning: invalid value encountered in log10\n",
      "  ys = ys + offset - np.log10(knee + xs**exp)\n",
      "/Users/rdgao/Documents/code/research/fooof/fooof/core/funcs.py:65: RuntimeWarning: invalid value encountered in log10\n",
      "  ys = ys + offset - np.log10(knee + xs**exp)\n",
      "/Users/rdgao/Documents/code/research/fooof/fooof/core/funcs.py:65: RuntimeWarning: invalid value encountered in log10\n",
      "  ys = ys + offset - np.log10(knee + xs**exp)\n"
     ]
    },
    {
     "name": "stderr",
     "output_type": "stream",
     "text": [
      "/Users/rdgao/Documents/code/research/fooof/fooof/core/funcs.py:65: RuntimeWarning: invalid value encountered in log10\n",
      "  ys = ys + offset - np.log10(knee + xs**exp)\n",
      "/Users/rdgao/Documents/code/research/fooof/fooof/core/funcs.py:65: RuntimeWarning: invalid value encountered in log10\n",
      "  ys = ys + offset - np.log10(knee + xs**exp)\n",
      "/Users/rdgao/Documents/code/research/fooof/fooof/core/funcs.py:65: RuntimeWarning: invalid value encountered in log10\n",
      "  ys = ys + offset - np.log10(knee + xs**exp)\n",
      "/Users/rdgao/Documents/code/research/fooof/fooof/core/funcs.py:65: RuntimeWarning: invalid value encountered in log10\n",
      "  ys = ys + offset - np.log10(knee + xs**exp)\n",
      "/Users/rdgao/Documents/code/research/fooof/fooof/core/funcs.py:65: RuntimeWarning: invalid value encountered in log10\n",
      "  ys = ys + offset - np.log10(knee + xs**exp)\n",
      "/Users/rdgao/Documents/code/research/fooof/fooof/core/funcs.py:65: RuntimeWarning: invalid value encountered in log10\n",
      "  ys = ys + offset - np.log10(knee + xs**exp)\n",
      "/Users/rdgao/Documents/code/research/fooof/fooof/core/funcs.py:65: RuntimeWarning: invalid value encountered in log10\n",
      "  ys = ys + offset - np.log10(knee + xs**exp)\n",
      "/Users/rdgao/Documents/code/research/fooof/fooof/core/funcs.py:65: RuntimeWarning: invalid value encountered in log10\n",
      "  ys = ys + offset - np.log10(knee + xs**exp)\n",
      "/Users/rdgao/Documents/code/research/fooof/fooof/core/funcs.py:65: RuntimeWarning: invalid value encountered in log10\n",
      "  ys = ys + offset - np.log10(knee + xs**exp)\n",
      "/Users/rdgao/Documents/code/research/fooof/fooof/core/funcs.py:65: RuntimeWarning: invalid value encountered in log10\n",
      "  ys = ys + offset - np.log10(knee + xs**exp)\n",
      "/Users/rdgao/Documents/code/research/fooof/fooof/core/funcs.py:65: RuntimeWarning: invalid value encountered in log10\n",
      "  ys = ys + offset - np.log10(knee + xs**exp)\n",
      "/Users/rdgao/Documents/code/research/fooof/fooof/core/funcs.py:65: RuntimeWarning: invalid value encountered in log10\n",
      "  ys = ys + offset - np.log10(knee + xs**exp)\n",
      "/Users/rdgao/Documents/code/research/fooof/fooof/core/funcs.py:65: RuntimeWarning: invalid value encountered in log10\n",
      "  ys = ys + offset - np.log10(knee + xs**exp)\n",
      "/Users/rdgao/Documents/code/research/fooof/fooof/core/funcs.py:65: RuntimeWarning: invalid value encountered in log10\n",
      "  ys = ys + offset - np.log10(knee + xs**exp)\n",
      "/Users/rdgao/Documents/code/research/fooof/fooof/core/funcs.py:65: RuntimeWarning: invalid value encountered in log10\n",
      "  ys = ys + offset - np.log10(knee + xs**exp)\n",
      "/Users/rdgao/Documents/code/research/fooof/fooof/core/funcs.py:65: RuntimeWarning: invalid value encountered in log10\n",
      "  ys = ys + offset - np.log10(knee + xs**exp)\n",
      "/Users/rdgao/Documents/code/research/fooof/fooof/core/funcs.py:65: RuntimeWarning: invalid value encountered in log10\n",
      "  ys = ys + offset - np.log10(knee + xs**exp)\n",
      "/Users/rdgao/Documents/code/research/fooof/fooof/core/funcs.py:65: RuntimeWarning: invalid value encountered in log10\n",
      "  ys = ys + offset - np.log10(knee + xs**exp)\n",
      "/Users/rdgao/Documents/code/research/fooof/fooof/core/funcs.py:65: RuntimeWarning: invalid value encountered in log10\n",
      "  ys = ys + offset - np.log10(knee + xs**exp)\n",
      "/Users/rdgao/Documents/code/research/fooof/fooof/core/funcs.py:65: RuntimeWarning: invalid value encountered in log10\n",
      "  ys = ys + offset - np.log10(knee + xs**exp)\n",
      "/Users/rdgao/Documents/code/research/fooof/fooof/core/funcs.py:65: RuntimeWarning: invalid value encountered in log10\n",
      "  ys = ys + offset - np.log10(knee + xs**exp)\n",
      "/Users/rdgao/Documents/code/research/fooof/fooof/core/funcs.py:65: RuntimeWarning: invalid value encountered in log10\n",
      "  ys = ys + offset - np.log10(knee + xs**exp)\n",
      "/Users/rdgao/Documents/code/research/fooof/fooof/core/funcs.py:65: RuntimeWarning: invalid value encountered in log10\n",
      "  ys = ys + offset - np.log10(knee + xs**exp)\n",
      "/Users/rdgao/Documents/code/research/fooof/fooof/core/funcs.py:65: RuntimeWarning: invalid value encountered in log10\n",
      "  ys = ys + offset - np.log10(knee + xs**exp)\n",
      "/Users/rdgao/Documents/code/research/fooof/fooof/core/funcs.py:65: RuntimeWarning: invalid value encountered in log10\n",
      "  ys = ys + offset - np.log10(knee + xs**exp)\n",
      "/Users/rdgao/Documents/code/research/fooof/fooof/core/funcs.py:65: RuntimeWarning: invalid value encountered in log10\n",
      "  ys = ys + offset - np.log10(knee + xs**exp)\n",
      "/Users/rdgao/Documents/code/research/fooof/fooof/core/funcs.py:65: RuntimeWarning: invalid value encountered in log10\n",
      "  ys = ys + offset - np.log10(knee + xs**exp)\n",
      "/Users/rdgao/Documents/code/research/fooof/fooof/core/funcs.py:65: RuntimeWarning: invalid value encountered in log10\n",
      "  ys = ys + offset - np.log10(knee + xs**exp)\n",
      "/Users/rdgao/Documents/code/research/fooof/fooof/core/funcs.py:65: RuntimeWarning: invalid value encountered in log10\n",
      "  ys = ys + offset - np.log10(knee + xs**exp)\n",
      "/Users/rdgao/Documents/code/research/fooof/fooof/core/funcs.py:65: RuntimeWarning: invalid value encountered in log10\n",
      "  ys = ys + offset - np.log10(knee + xs**exp)\n",
      "/Users/rdgao/Documents/code/research/fooof/fooof/core/funcs.py:65: RuntimeWarning: invalid value encountered in log10\n",
      "  ys = ys + offset - np.log10(knee + xs**exp)\n",
      "/Users/rdgao/Documents/code/research/fooof/fooof/core/funcs.py:65: RuntimeWarning: invalid value encountered in log10\n",
      "  ys = ys + offset - np.log10(knee + xs**exp)\n",
      "/Users/rdgao/Documents/code/research/fooof/fooof/core/funcs.py:65: RuntimeWarning: invalid value encountered in log10\n",
      "  ys = ys + offset - np.log10(knee + xs**exp)\n",
      "/Users/rdgao/Documents/code/research/fooof/fooof/core/funcs.py:65: RuntimeWarning: invalid value encountered in log10\n",
      "  ys = ys + offset - np.log10(knee + xs**exp)\n",
      "/Users/rdgao/Documents/code/research/fooof/fooof/core/funcs.py:65: RuntimeWarning: invalid value encountered in log10\n",
      "  ys = ys + offset - np.log10(knee + xs**exp)\n",
      "/Users/rdgao/Documents/code/research/fooof/fooof/core/funcs.py:65: RuntimeWarning: invalid value encountered in log10\n",
      "  ys = ys + offset - np.log10(knee + xs**exp)\n",
      "/Users/rdgao/Documents/code/research/fooof/fooof/core/funcs.py:65: RuntimeWarning: invalid value encountered in log10\n",
      "  ys = ys + offset - np.log10(knee + xs**exp)\n",
      "/Users/rdgao/Documents/code/research/fooof/fooof/core/funcs.py:65: RuntimeWarning: invalid value encountered in log10\n",
      "  ys = ys + offset - np.log10(knee + xs**exp)\n",
      "/Users/rdgao/Documents/code/research/fooof/fooof/core/funcs.py:65: RuntimeWarning: invalid value encountered in log10\n",
      "  ys = ys + offset - np.log10(knee + xs**exp)\n",
      "/Users/rdgao/Documents/code/research/fooof/fooof/core/funcs.py:65: RuntimeWarning: invalid value encountered in log10\n",
      "  ys = ys + offset - np.log10(knee + xs**exp)\n",
      "/Users/rdgao/Documents/code/research/fooof/fooof/core/funcs.py:65: RuntimeWarning: invalid value encountered in log10\n",
      "  ys = ys + offset - np.log10(knee + xs**exp)\n",
      "/Users/rdgao/Documents/code/research/fooof/fooof/core/funcs.py:65: RuntimeWarning: invalid value encountered in log10\n",
      "  ys = ys + offset - np.log10(knee + xs**exp)\n",
      "/Users/rdgao/Documents/code/research/fooof/fooof/core/funcs.py:65: RuntimeWarning: invalid value encountered in log10\n",
      "  ys = ys + offset - np.log10(knee + xs**exp)\n"
     ]
    },
    {
     "name": "stdout",
     "output_type": "stream",
     "text": [
      "/Users/rdgao/Documents/data/NeuroTycho/results/psd/1sec_win/fooof/3_Anesthesia_Propofol_20120731PF_Anesthesia_and_Sleep_George_Toru_Yanagawa_mat_ECoG128.npz\n",
      "/Users/rdgao/Documents/data/NeuroTycho/results/psd/1sec_win/fooof/3_Anesthesia_Propofol_20120802PF_Anesthesia_and_Sleep_Chibi_Toru_Yanagawa_mat_ECoG128.npz\n"
     ]
    },
    {
     "name": "stderr",
     "output_type": "stream",
     "text": [
      "/Users/rdgao/Documents/code/research/fooof/fooof/core/funcs.py:65: RuntimeWarning: invalid value encountered in log10\n",
      "  ys = ys + offset - np.log10(knee + xs**exp)\n",
      "/Users/rdgao/Documents/code/research/fooof/fooof/core/funcs.py:65: RuntimeWarning: invalid value encountered in log10\n",
      "  ys = ys + offset - np.log10(knee + xs**exp)\n",
      "/Users/rdgao/Documents/code/research/fooof/fooof/core/funcs.py:65: RuntimeWarning: invalid value encountered in log10\n",
      "  ys = ys + offset - np.log10(knee + xs**exp)\n",
      "/Users/rdgao/Documents/code/research/fooof/fooof/core/funcs.py:65: RuntimeWarning: invalid value encountered in log10\n",
      "  ys = ys + offset - np.log10(knee + xs**exp)\n",
      "/Users/rdgao/Documents/code/research/fooof/fooof/core/funcs.py:65: RuntimeWarning: invalid value encountered in log10\n",
      "  ys = ys + offset - np.log10(knee + xs**exp)\n",
      "/Users/rdgao/Documents/code/research/fooof/fooof/core/funcs.py:65: RuntimeWarning: invalid value encountered in log10\n",
      "  ys = ys + offset - np.log10(knee + xs**exp)\n",
      "/Users/rdgao/Documents/code/research/fooof/fooof/core/funcs.py:65: RuntimeWarning: invalid value encountered in log10\n",
      "  ys = ys + offset - np.log10(knee + xs**exp)\n",
      "/Users/rdgao/Documents/code/research/fooof/fooof/core/funcs.py:65: RuntimeWarning: invalid value encountered in log10\n",
      "  ys = ys + offset - np.log10(knee + xs**exp)\n",
      "/Users/rdgao/Documents/code/research/fooof/fooof/core/funcs.py:65: RuntimeWarning: invalid value encountered in log10\n",
      "  ys = ys + offset - np.log10(knee + xs**exp)\n",
      "/Users/rdgao/Documents/code/research/fooof/fooof/core/funcs.py:65: RuntimeWarning: invalid value encountered in log10\n",
      "  ys = ys + offset - np.log10(knee + xs**exp)\n",
      "/Users/rdgao/Documents/code/research/fooof/fooof/core/funcs.py:65: RuntimeWarning: invalid value encountered in log10\n",
      "  ys = ys + offset - np.log10(knee + xs**exp)\n",
      "/Users/rdgao/Documents/code/research/fooof/fooof/core/funcs.py:65: RuntimeWarning: invalid value encountered in log10\n",
      "  ys = ys + offset - np.log10(knee + xs**exp)\n",
      "/Users/rdgao/Documents/code/research/fooof/fooof/core/funcs.py:65: RuntimeWarning: invalid value encountered in log10\n",
      "  ys = ys + offset - np.log10(knee + xs**exp)\n",
      "/Users/rdgao/Documents/code/research/fooof/fooof/core/funcs.py:65: RuntimeWarning: invalid value encountered in log10\n",
      "  ys = ys + offset - np.log10(knee + xs**exp)\n",
      "/Users/rdgao/Documents/code/research/fooof/fooof/core/funcs.py:65: RuntimeWarning: invalid value encountered in log10\n",
      "  ys = ys + offset - np.log10(knee + xs**exp)\n",
      "/Users/rdgao/Documents/code/research/fooof/fooof/core/funcs.py:65: RuntimeWarning: invalid value encountered in log10\n",
      "  ys = ys + offset - np.log10(knee + xs**exp)\n",
      "/Users/rdgao/Documents/code/research/fooof/fooof/core/funcs.py:65: RuntimeWarning: invalid value encountered in log10\n",
      "  ys = ys + offset - np.log10(knee + xs**exp)\n",
      "/Users/rdgao/Documents/code/research/fooof/fooof/core/funcs.py:65: RuntimeWarning: invalid value encountered in log10\n",
      "  ys = ys + offset - np.log10(knee + xs**exp)\n",
      "/Users/rdgao/Documents/code/research/fooof/fooof/core/funcs.py:65: RuntimeWarning: invalid value encountered in log10\n",
      "  ys = ys + offset - np.log10(knee + xs**exp)\n",
      "/Users/rdgao/Documents/code/research/fooof/fooof/core/funcs.py:65: RuntimeWarning: invalid value encountered in log10\n",
      "  ys = ys + offset - np.log10(knee + xs**exp)\n",
      "/Users/rdgao/Documents/code/research/fooof/fooof/core/funcs.py:65: RuntimeWarning: invalid value encountered in log10\n",
      "  ys = ys + offset - np.log10(knee + xs**exp)\n",
      "/Users/rdgao/Documents/code/research/fooof/fooof/core/funcs.py:65: RuntimeWarning: invalid value encountered in log10\n",
      "  ys = ys + offset - np.log10(knee + xs**exp)\n",
      "/Users/rdgao/Documents/code/research/fooof/fooof/core/funcs.py:65: RuntimeWarning: invalid value encountered in log10\n",
      "  ys = ys + offset - np.log10(knee + xs**exp)\n",
      "/Users/rdgao/Documents/code/research/fooof/fooof/core/funcs.py:65: RuntimeWarning: invalid value encountered in log10\n",
      "  ys = ys + offset - np.log10(knee + xs**exp)\n",
      "/Users/rdgao/Documents/code/research/fooof/fooof/core/funcs.py:65: RuntimeWarning: invalid value encountered in log10\n",
      "  ys = ys + offset - np.log10(knee + xs**exp)\n",
      "/Users/rdgao/Documents/code/research/fooof/fooof/core/funcs.py:65: RuntimeWarning: invalid value encountered in log10\n",
      "  ys = ys + offset - np.log10(knee + xs**exp)\n",
      "/Users/rdgao/Documents/code/research/fooof/fooof/core/funcs.py:65: RuntimeWarning: invalid value encountered in log10\n",
      "  ys = ys + offset - np.log10(knee + xs**exp)\n",
      "/Users/rdgao/Documents/code/research/fooof/fooof/core/funcs.py:65: RuntimeWarning: invalid value encountered in log10\n",
      "  ys = ys + offset - np.log10(knee + xs**exp)\n",
      "/Users/rdgao/Documents/code/research/fooof/fooof/core/funcs.py:65: RuntimeWarning: invalid value encountered in log10\n",
      "  ys = ys + offset - np.log10(knee + xs**exp)\n",
      "/Users/rdgao/Documents/code/research/fooof/fooof/core/funcs.py:65: RuntimeWarning: invalid value encountered in log10\n",
      "  ys = ys + offset - np.log10(knee + xs**exp)\n",
      "/Users/rdgao/Documents/code/research/fooof/fooof/core/funcs.py:65: RuntimeWarning: invalid value encountered in log10\n",
      "  ys = ys + offset - np.log10(knee + xs**exp)\n",
      "/Users/rdgao/Documents/code/research/fooof/fooof/core/funcs.py:65: RuntimeWarning: invalid value encountered in log10\n",
      "  ys = ys + offset - np.log10(knee + xs**exp)\n",
      "/Users/rdgao/Documents/code/research/fooof/fooof/core/funcs.py:65: RuntimeWarning: invalid value encountered in log10\n",
      "  ys = ys + offset - np.log10(knee + xs**exp)\n",
      "/Users/rdgao/Documents/code/research/fooof/fooof/core/funcs.py:65: RuntimeWarning: invalid value encountered in log10\n",
      "  ys = ys + offset - np.log10(knee + xs**exp)\n",
      "/Users/rdgao/Documents/code/research/fooof/fooof/core/funcs.py:65: RuntimeWarning: invalid value encountered in log10\n",
      "  ys = ys + offset - np.log10(knee + xs**exp)\n",
      "/Users/rdgao/Documents/code/research/fooof/fooof/core/funcs.py:65: RuntimeWarning: invalid value encountered in log10\n",
      "  ys = ys + offset - np.log10(knee + xs**exp)\n",
      "/Users/rdgao/Documents/code/research/fooof/fooof/core/funcs.py:65: RuntimeWarning: invalid value encountered in log10\n",
      "  ys = ys + offset - np.log10(knee + xs**exp)\n",
      "/Users/rdgao/Documents/code/research/fooof/fooof/core/funcs.py:65: RuntimeWarning: invalid value encountered in log10\n",
      "  ys = ys + offset - np.log10(knee + xs**exp)\n",
      "/Users/rdgao/Documents/code/research/fooof/fooof/core/funcs.py:65: RuntimeWarning: invalid value encountered in log10\n",
      "  ys = ys + offset - np.log10(knee + xs**exp)\n",
      "/Users/rdgao/Documents/code/research/fooof/fooof/core/funcs.py:65: RuntimeWarning: invalid value encountered in log10\n",
      "  ys = ys + offset - np.log10(knee + xs**exp)\n",
      "/Users/rdgao/Documents/code/research/fooof/fooof/core/funcs.py:65: RuntimeWarning: invalid value encountered in log10\n",
      "  ys = ys + offset - np.log10(knee + xs**exp)\n",
      "/Users/rdgao/Documents/code/research/fooof/fooof/core/funcs.py:65: RuntimeWarning: invalid value encountered in log10\n",
      "  ys = ys + offset - np.log10(knee + xs**exp)\n",
      "/Users/rdgao/Documents/code/research/fooof/fooof/core/funcs.py:65: RuntimeWarning: invalid value encountered in log10\n",
      "  ys = ys + offset - np.log10(knee + xs**exp)\n",
      "/Users/rdgao/Documents/code/research/fooof/fooof/core/funcs.py:65: RuntimeWarning: invalid value encountered in log10\n",
      "  ys = ys + offset - np.log10(knee + xs**exp)\n",
      "/Users/rdgao/Documents/code/research/fooof/fooof/core/funcs.py:65: RuntimeWarning: invalid value encountered in log10\n",
      "  ys = ys + offset - np.log10(knee + xs**exp)\n",
      "/Users/rdgao/Documents/code/research/fooof/fooof/core/funcs.py:65: RuntimeWarning: invalid value encountered in log10\n",
      "  ys = ys + offset - np.log10(knee + xs**exp)\n",
      "/Users/rdgao/Documents/code/research/fooof/fooof/core/funcs.py:65: RuntimeWarning: invalid value encountered in log10\n",
      "  ys = ys + offset - np.log10(knee + xs**exp)\n",
      "/Users/rdgao/Documents/code/research/fooof/fooof/core/funcs.py:65: RuntimeWarning: invalid value encountered in log10\n",
      "  ys = ys + offset - np.log10(knee + xs**exp)\n",
      "/Users/rdgao/Documents/code/research/fooof/fooof/core/funcs.py:65: RuntimeWarning: invalid value encountered in log10\n",
      "  ys = ys + offset - np.log10(knee + xs**exp)\n",
      "/Users/rdgao/Documents/code/research/fooof/fooof/core/funcs.py:65: RuntimeWarning: invalid value encountered in log10\n",
      "  ys = ys + offset - np.log10(knee + xs**exp)\n",
      "/Users/rdgao/Documents/code/research/fooof/fooof/core/funcs.py:65: RuntimeWarning: invalid value encountered in log10\n",
      "  ys = ys + offset - np.log10(knee + xs**exp)\n",
      "/Users/rdgao/Documents/code/research/fooof/fooof/core/funcs.py:65: RuntimeWarning: invalid value encountered in log10\n",
      "  ys = ys + offset - np.log10(knee + xs**exp)\n"
     ]
    },
    {
     "name": "stderr",
     "output_type": "stream",
     "text": [
      "/Users/rdgao/Documents/code/research/fooof/fooof/core/funcs.py:65: RuntimeWarning: invalid value encountered in log10\n",
      "  ys = ys + offset - np.log10(knee + xs**exp)\n",
      "/Users/rdgao/Documents/code/research/fooof/fooof/core/funcs.py:65: RuntimeWarning: invalid value encountered in log10\n",
      "  ys = ys + offset - np.log10(knee + xs**exp)\n",
      "/Users/rdgao/Documents/code/research/fooof/fooof/core/funcs.py:65: RuntimeWarning: invalid value encountered in log10\n",
      "  ys = ys + offset - np.log10(knee + xs**exp)\n"
     ]
    },
    {
     "name": "stdout",
     "output_type": "stream",
     "text": [
      "/Users/rdgao/Documents/data/NeuroTycho/results/psd/1sec_win/fooof/3_Anesthesia_Propofol_20120803PF_Anesthesia_and_Sleep_George_Toru_Yanagawa_mat_ECoG128.npz\n"
     ]
    },
    {
     "name": "stderr",
     "output_type": "stream",
     "text": [
      "/Users/rdgao/Documents/code/research/fooof/fooof/core/funcs.py:65: RuntimeWarning: invalid value encountered in log10\n",
      "  ys = ys + offset - np.log10(knee + xs**exp)\n",
      "/Users/rdgao/Documents/code/research/fooof/fooof/core/funcs.py:65: RuntimeWarning: invalid value encountered in log10\n",
      "  ys = ys + offset - np.log10(knee + xs**exp)\n"
     ]
    },
    {
     "data": {
      "text/plain": [
       "<matplotlib.figure.Figure at 0x1c1b499128>"
      ]
     },
     "metadata": {},
     "output_type": "display_data"
    }
   ],
   "source": [
    "# 1 sec fooof\n",
    "do_plot = True\n",
    "if do_plot:\n",
    "    plt.figure(figsize=(6,6))\n",
    "\n",
    "fooof_ranges = [(1,70), (1,70), (30,70), (1,7)] \n",
    "fooof_mnp = [5,5,1,0]\n",
    "fooof_bgp = ['fixed', 'knee', 'fixed','fixed']\n",
    "\n",
    "psd_path = '/Users/rdgao/Documents/data/NeuroTycho/results/psd/1sec_win/'\n",
    "psd_files = sorted([pf for pf in os.listdir(psd_path) if '.npz' in pf])\n",
    "for pf in psd_files:    \n",
    "    full_outpath = psd_path+'fooof/'\n",
    "    if not os.path.exists(full_outpath):\n",
    "        os.makedirs(full_outpath)\n",
    "    print(full_outpath+pf)\n",
    "    psd_data = np.load(psd_path+pf)\n",
    "\n",
    "    # fooof\n",
    "    psd_regen = []\n",
    "    for i in range(len(fooof_bgp)):\n",
    "        # get parameters\n",
    "        fr, fp, fb = fooof_ranges[i], fooof_mnp[i], fooof_bgp[i]\n",
    "        # fooof mean and median spectra\n",
    "        fg_mean, psd_re = fooof_psd(psd_data['f_axis'], psd_data['psd'], fr, fp, fb)\n",
    "        psd_regen.append(psd_re)\n",
    "        fg_med, psd_re = fooof_psd(psd_data['f_axis'], psd_data['psd_med'], fr, fp, fb)\n",
    "        psd_regen.append(psd_re)\n",
    "        # save fooof group\n",
    "        fooof_filename = '%i-%i_%s_%ipeaks_'%(fr[0], fr[1], fb, fp)+pf\n",
    "        fg_mean.save(file_name='psdmean_'+fooof_filename, file_path=full_outpath, save_results=True, save_settings=True)\n",
    "        fg_med.save(file_name='psdmed_'+fooof_filename, file_path=full_outpath, save_results=True, save_settings=True)\n",
    "        \n",
    "    # plot\n",
    "    if do_plot: plot_psds(psd_data, psd_path, pf, psd_regen)    \n",
    "    psd_data.close()"
   ]
  },
  {
   "cell_type": "code",
   "execution_count": 192,
   "metadata": {},
   "outputs": [
    {
     "name": "stdout",
     "output_type": "stream",
     "text": [
      "/Users/rdgao/Documents/data/NeuroTycho/results/psd/10sec_win/fooof/0_EyesOpen_Ketamine_20120719KT_Anesthesia_and_Sleep_Chibi_Toru_Yanagawa_mat_ECoG128.npz\n",
      "/Users/rdgao/Documents/data/NeuroTycho/results/psd/10sec_win/fooof/0_EyesOpen_Ketamine_20120724KT_Anesthesia_and_Sleep_George_Toru_Yanagawa_mat_ECoG128.npz\n"
     ]
    },
    {
     "name": "stderr",
     "output_type": "stream",
     "text": [
      "/Users/rdgao/Documents/code/research/fooof/fooof/core/funcs.py:65: RuntimeWarning: invalid value encountered in log10\n",
      "  ys = ys + offset - np.log10(knee + xs**exp)\n",
      "/Users/rdgao/Documents/code/research/fooof/fooof/core/funcs.py:65: RuntimeWarning: invalid value encountered in log10\n",
      "  ys = ys + offset - np.log10(knee + xs**exp)\n",
      "/Users/rdgao/Documents/code/research/fooof/fooof/core/funcs.py:65: RuntimeWarning: invalid value encountered in log10\n",
      "  ys = ys + offset - np.log10(knee + xs**exp)\n",
      "/Users/rdgao/Documents/code/research/fooof/fooof/core/funcs.py:65: RuntimeWarning: invalid value encountered in log10\n",
      "  ys = ys + offset - np.log10(knee + xs**exp)\n",
      "/Users/rdgao/Documents/code/research/fooof/fooof/core/funcs.py:65: RuntimeWarning: invalid value encountered in log10\n",
      "  ys = ys + offset - np.log10(knee + xs**exp)\n"
     ]
    },
    {
     "name": "stdout",
     "output_type": "stream",
     "text": [
      "/Users/rdgao/Documents/data/NeuroTycho/results/psd/10sec_win/fooof/0_EyesOpen_Ketamine_20120810KT_Anesthesia_and_Sleep_George_Toru_Yanagawa_mat_ECoG128.npz\n",
      "/Users/rdgao/Documents/data/NeuroTycho/results/psd/10sec_win/fooof/0_EyesOpen_Ketamine_20120813KT_Anesthesia_and_Sleep_Chibi_Toru_Yanagawa_mat_ECoG128.npz\n",
      "/Users/rdgao/Documents/data/NeuroTycho/results/psd/10sec_win/fooof/0_EyesOpen_Propofol_20120730PF_Anesthesia_and_Sleep_Chibi_Toru_Yanagawa_mat_ECoG128.npz\n"
     ]
    },
    {
     "name": "stderr",
     "output_type": "stream",
     "text": [
      "/Users/rdgao/Documents/code/research/fooof/fooof/core/funcs.py:65: RuntimeWarning: invalid value encountered in log10\n",
      "  ys = ys + offset - np.log10(knee + xs**exp)\n"
     ]
    },
    {
     "name": "stdout",
     "output_type": "stream",
     "text": [
      "/Users/rdgao/Documents/data/NeuroTycho/results/psd/10sec_win/fooof/0_EyesOpen_Propofol_20120731PF_Anesthesia_and_Sleep_George_Toru_Yanagawa_mat_ECoG128.npz\n"
     ]
    },
    {
     "name": "stderr",
     "output_type": "stream",
     "text": [
      "/Users/rdgao/Documents/code/research/fooof/fooof/core/funcs.py:65: RuntimeWarning: invalid value encountered in log10\n",
      "  ys = ys + offset - np.log10(knee + xs**exp)\n",
      "/Users/rdgao/Documents/code/research/fooof/fooof/core/funcs.py:65: RuntimeWarning: invalid value encountered in log10\n",
      "  ys = ys + offset - np.log10(knee + xs**exp)\n",
      "/Users/rdgao/Documents/code/research/fooof/fooof/core/funcs.py:65: RuntimeWarning: invalid value encountered in log10\n",
      "  ys = ys + offset - np.log10(knee + xs**exp)\n",
      "/Users/rdgao/Documents/code/research/fooof/fooof/core/funcs.py:65: RuntimeWarning: invalid value encountered in log10\n",
      "  ys = ys + offset - np.log10(knee + xs**exp)\n",
      "/Users/rdgao/Documents/code/research/fooof/fooof/core/funcs.py:65: RuntimeWarning: invalid value encountered in log10\n",
      "  ys = ys + offset - np.log10(knee + xs**exp)\n",
      "/Users/rdgao/Documents/code/research/fooof/fooof/core/funcs.py:65: RuntimeWarning: invalid value encountered in log10\n",
      "  ys = ys + offset - np.log10(knee + xs**exp)\n",
      "/Users/rdgao/Documents/code/research/fooof/fooof/core/funcs.py:65: RuntimeWarning: invalid value encountered in log10\n",
      "  ys = ys + offset - np.log10(knee + xs**exp)\n",
      "/Users/rdgao/Documents/code/research/fooof/fooof/core/funcs.py:65: RuntimeWarning: invalid value encountered in log10\n",
      "  ys = ys + offset - np.log10(knee + xs**exp)\n",
      "/Users/rdgao/Documents/code/research/fooof/fooof/core/funcs.py:65: RuntimeWarning: invalid value encountered in log10\n",
      "  ys = ys + offset - np.log10(knee + xs**exp)\n",
      "/Users/rdgao/Documents/code/research/fooof/fooof/core/funcs.py:65: RuntimeWarning: invalid value encountered in log10\n",
      "  ys = ys + offset - np.log10(knee + xs**exp)\n"
     ]
    },
    {
     "name": "stdout",
     "output_type": "stream",
     "text": [
      "/Users/rdgao/Documents/data/NeuroTycho/results/psd/10sec_win/fooof/0_EyesOpen_Propofol_20120802PF_Anesthesia_and_Sleep_Chibi_Toru_Yanagawa_mat_ECoG128.npz\n"
     ]
    },
    {
     "name": "stderr",
     "output_type": "stream",
     "text": [
      "/Users/rdgao/Documents/code/research/fooof/fooof/core/funcs.py:65: RuntimeWarning: invalid value encountered in log10\n",
      "  ys = ys + offset - np.log10(knee + xs**exp)\n",
      "/Users/rdgao/Documents/code/research/fooof/fooof/core/funcs.py:65: RuntimeWarning: invalid value encountered in log10\n",
      "  ys = ys + offset - np.log10(knee + xs**exp)\n"
     ]
    },
    {
     "name": "stdout",
     "output_type": "stream",
     "text": [
      "/Users/rdgao/Documents/data/NeuroTycho/results/psd/10sec_win/fooof/0_EyesOpen_Propofol_20120803PF_Anesthesia_and_Sleep_George_Toru_Yanagawa_mat_ECoG128.npz\n"
     ]
    },
    {
     "name": "stderr",
     "output_type": "stream",
     "text": [
      "/Users/rdgao/Documents/code/research/fooof/fooof/core/funcs.py:65: RuntimeWarning: invalid value encountered in log10\n",
      "  ys = ys + offset - np.log10(knee + xs**exp)\n",
      "/Users/rdgao/Documents/code/research/fooof/fooof/core/funcs.py:65: RuntimeWarning: invalid value encountered in log10\n",
      "  ys = ys + offset - np.log10(knee + xs**exp)\n",
      "/Users/rdgao/Documents/code/research/fooof/fooof/core/funcs.py:65: RuntimeWarning: invalid value encountered in log10\n",
      "  ys = ys + offset - np.log10(knee + xs**exp)\n",
      "/Users/rdgao/Documents/code/research/fooof/fooof/core/funcs.py:65: RuntimeWarning: invalid value encountered in log10\n",
      "  ys = ys + offset - np.log10(knee + xs**exp)\n",
      "/Users/rdgao/Documents/code/research/fooof/fooof/core/funcs.py:65: RuntimeWarning: invalid value encountered in log10\n",
      "  ys = ys + offset - np.log10(knee + xs**exp)\n",
      "/Users/rdgao/Documents/code/research/fooof/fooof/core/funcs.py:65: RuntimeWarning: invalid value encountered in log10\n",
      "  ys = ys + offset - np.log10(knee + xs**exp)\n",
      "/Users/rdgao/Documents/code/research/fooof/fooof/core/funcs.py:65: RuntimeWarning: invalid value encountered in log10\n",
      "  ys = ys + offset - np.log10(knee + xs**exp)\n",
      "/Users/rdgao/Documents/code/research/fooof/fooof/core/funcs.py:65: RuntimeWarning: invalid value encountered in log10\n",
      "  ys = ys + offset - np.log10(knee + xs**exp)\n",
      "/Users/rdgao/Documents/code/research/fooof/fooof/core/funcs.py:65: RuntimeWarning: invalid value encountered in log10\n",
      "  ys = ys + offset - np.log10(knee + xs**exp)\n",
      "/Users/rdgao/Documents/code/research/fooof/fooof/core/funcs.py:65: RuntimeWarning: invalid value encountered in log10\n",
      "  ys = ys + offset - np.log10(knee + xs**exp)\n",
      "/Users/rdgao/Documents/code/research/fooof/fooof/core/funcs.py:65: RuntimeWarning: invalid value encountered in log10\n",
      "  ys = ys + offset - np.log10(knee + xs**exp)\n",
      "/Users/rdgao/Documents/code/research/fooof/fooof/core/funcs.py:65: RuntimeWarning: invalid value encountered in log10\n",
      "  ys = ys + offset - np.log10(knee + xs**exp)\n",
      "/Users/rdgao/Documents/code/research/fooof/fooof/core/funcs.py:65: RuntimeWarning: invalid value encountered in log10\n",
      "  ys = ys + offset - np.log10(knee + xs**exp)\n",
      "/Users/rdgao/Documents/code/research/fooof/fooof/core/funcs.py:65: RuntimeWarning: invalid value encountered in log10\n",
      "  ys = ys + offset - np.log10(knee + xs**exp)\n",
      "/Users/rdgao/Documents/code/research/fooof/fooof/core/funcs.py:65: RuntimeWarning: invalid value encountered in log10\n",
      "  ys = ys + offset - np.log10(knee + xs**exp)\n",
      "/Users/rdgao/Documents/code/research/fooof/fooof/core/funcs.py:65: RuntimeWarning: invalid value encountered in log10\n",
      "  ys = ys + offset - np.log10(knee + xs**exp)\n",
      "/Users/rdgao/Documents/code/research/fooof/fooof/core/funcs.py:65: RuntimeWarning: invalid value encountered in log10\n",
      "  ys = ys + offset - np.log10(knee + xs**exp)\n",
      "/Users/rdgao/Documents/code/research/fooof/fooof/core/funcs.py:65: RuntimeWarning: invalid value encountered in log10\n",
      "  ys = ys + offset - np.log10(knee + xs**exp)\n"
     ]
    },
    {
     "name": "stdout",
     "output_type": "stream",
     "text": [
      "/Users/rdgao/Documents/data/NeuroTycho/results/psd/10sec_win/fooof/1_EyesClosed_Ketamine_20120719KT_Anesthesia_and_Sleep_Chibi_Toru_Yanagawa_mat_ECoG128.npz\n",
      "/Users/rdgao/Documents/data/NeuroTycho/results/psd/10sec_win/fooof/1_EyesClosed_Ketamine_20120724KT_Anesthesia_and_Sleep_George_Toru_Yanagawa_mat_ECoG128.npz\n",
      "/Users/rdgao/Documents/data/NeuroTycho/results/psd/10sec_win/fooof/1_EyesClosed_Ketamine_20120810KT_Anesthesia_and_Sleep_George_Toru_Yanagawa_mat_ECoG128.npz\n"
     ]
    },
    {
     "name": "stderr",
     "output_type": "stream",
     "text": [
      "/Users/rdgao/Documents/code/research/fooof/fooof/core/funcs.py:65: RuntimeWarning: invalid value encountered in log10\n",
      "  ys = ys + offset - np.log10(knee + xs**exp)\n",
      "/Users/rdgao/Documents/code/research/fooof/fooof/core/funcs.py:65: RuntimeWarning: invalid value encountered in log10\n",
      "  ys = ys + offset - np.log10(knee + xs**exp)\n",
      "/Users/rdgao/Documents/code/research/fooof/fooof/core/funcs.py:65: RuntimeWarning: invalid value encountered in log10\n",
      "  ys = ys + offset - np.log10(knee + xs**exp)\n",
      "/Users/rdgao/Documents/code/research/fooof/fooof/core/funcs.py:65: RuntimeWarning: invalid value encountered in log10\n",
      "  ys = ys + offset - np.log10(knee + xs**exp)\n",
      "/Users/rdgao/Documents/code/research/fooof/fooof/core/funcs.py:65: RuntimeWarning: invalid value encountered in log10\n",
      "  ys = ys + offset - np.log10(knee + xs**exp)\n",
      "/Users/rdgao/Documents/code/research/fooof/fooof/core/funcs.py:65: RuntimeWarning: invalid value encountered in log10\n",
      "  ys = ys + offset - np.log10(knee + xs**exp)\n",
      "/Users/rdgao/Documents/code/research/fooof/fooof/core/funcs.py:65: RuntimeWarning: invalid value encountered in log10\n",
      "  ys = ys + offset - np.log10(knee + xs**exp)\n",
      "/Users/rdgao/Documents/code/research/fooof/fooof/core/funcs.py:65: RuntimeWarning: invalid value encountered in log10\n",
      "  ys = ys + offset - np.log10(knee + xs**exp)\n",
      "/Users/rdgao/Documents/code/research/fooof/fooof/core/funcs.py:65: RuntimeWarning: invalid value encountered in log10\n",
      "  ys = ys + offset - np.log10(knee + xs**exp)\n"
     ]
    },
    {
     "name": "stdout",
     "output_type": "stream",
     "text": [
      "/Users/rdgao/Documents/data/NeuroTycho/results/psd/10sec_win/fooof/1_EyesClosed_Ketamine_20120813KT_Anesthesia_and_Sleep_Chibi_Toru_Yanagawa_mat_ECoG128.npz\n",
      "/Users/rdgao/Documents/data/NeuroTycho/results/psd/10sec_win/fooof/1_EyesClosed_Propofol_20120730PF_Anesthesia_and_Sleep_Chibi_Toru_Yanagawa_mat_ECoG128.npz\n",
      "/Users/rdgao/Documents/data/NeuroTycho/results/psd/10sec_win/fooof/1_EyesClosed_Propofol_20120731PF_Anesthesia_and_Sleep_George_Toru_Yanagawa_mat_ECoG128.npz\n"
     ]
    },
    {
     "name": "stderr",
     "output_type": "stream",
     "text": [
      "/Users/rdgao/Documents/code/research/fooof/fooof/core/funcs.py:65: RuntimeWarning: invalid value encountered in log10\n",
      "  ys = ys + offset - np.log10(knee + xs**exp)\n",
      "/Users/rdgao/Documents/code/research/fooof/fooof/core/funcs.py:65: RuntimeWarning: invalid value encountered in log10\n",
      "  ys = ys + offset - np.log10(knee + xs**exp)\n",
      "/Users/rdgao/Documents/code/research/fooof/fooof/core/funcs.py:65: RuntimeWarning: invalid value encountered in log10\n",
      "  ys = ys + offset - np.log10(knee + xs**exp)\n",
      "/Users/rdgao/Documents/code/research/fooof/fooof/core/funcs.py:65: RuntimeWarning: invalid value encountered in log10\n",
      "  ys = ys + offset - np.log10(knee + xs**exp)\n",
      "/Users/rdgao/Documents/code/research/fooof/fooof/core/funcs.py:65: RuntimeWarning: invalid value encountered in log10\n",
      "  ys = ys + offset - np.log10(knee + xs**exp)\n",
      "/Users/rdgao/Documents/code/research/fooof/fooof/core/funcs.py:65: RuntimeWarning: invalid value encountered in log10\n",
      "  ys = ys + offset - np.log10(knee + xs**exp)\n",
      "/Users/rdgao/Documents/code/research/fooof/fooof/core/funcs.py:65: RuntimeWarning: invalid value encountered in log10\n",
      "  ys = ys + offset - np.log10(knee + xs**exp)\n",
      "/Users/rdgao/Documents/code/research/fooof/fooof/core/funcs.py:65: RuntimeWarning: invalid value encountered in log10\n",
      "  ys = ys + offset - np.log10(knee + xs**exp)\n",
      "/Users/rdgao/Documents/code/research/fooof/fooof/core/funcs.py:65: RuntimeWarning: invalid value encountered in log10\n",
      "  ys = ys + offset - np.log10(knee + xs**exp)\n",
      "/Users/rdgao/Documents/code/research/fooof/fooof/core/funcs.py:65: RuntimeWarning: invalid value encountered in log10\n",
      "  ys = ys + offset - np.log10(knee + xs**exp)\n",
      "/Users/rdgao/Documents/code/research/fooof/fooof/core/funcs.py:65: RuntimeWarning: invalid value encountered in log10\n",
      "  ys = ys + offset - np.log10(knee + xs**exp)\n",
      "/Users/rdgao/Documents/code/research/fooof/fooof/core/funcs.py:65: RuntimeWarning: invalid value encountered in log10\n",
      "  ys = ys + offset - np.log10(knee + xs**exp)\n",
      "/Users/rdgao/Documents/code/research/fooof/fooof/core/funcs.py:65: RuntimeWarning: invalid value encountered in log10\n",
      "  ys = ys + offset - np.log10(knee + xs**exp)\n",
      "/Users/rdgao/Documents/code/research/fooof/fooof/core/funcs.py:65: RuntimeWarning: invalid value encountered in log10\n",
      "  ys = ys + offset - np.log10(knee + xs**exp)\n",
      "/Users/rdgao/Documents/code/research/fooof/fooof/core/funcs.py:65: RuntimeWarning: invalid value encountered in log10\n",
      "  ys = ys + offset - np.log10(knee + xs**exp)\n",
      "/Users/rdgao/Documents/code/research/fooof/fooof/core/funcs.py:65: RuntimeWarning: invalid value encountered in log10\n",
      "  ys = ys + offset - np.log10(knee + xs**exp)\n",
      "/Users/rdgao/Documents/code/research/fooof/fooof/core/funcs.py:65: RuntimeWarning: invalid value encountered in log10\n",
      "  ys = ys + offset - np.log10(knee + xs**exp)\n",
      "/Users/rdgao/Documents/code/research/fooof/fooof/core/funcs.py:65: RuntimeWarning: invalid value encountered in log10\n",
      "  ys = ys + offset - np.log10(knee + xs**exp)\n",
      "/Users/rdgao/Documents/code/research/fooof/fooof/core/funcs.py:65: RuntimeWarning: invalid value encountered in log10\n",
      "  ys = ys + offset - np.log10(knee + xs**exp)\n",
      "/Users/rdgao/Documents/code/research/fooof/fooof/core/funcs.py:65: RuntimeWarning: invalid value encountered in log10\n",
      "  ys = ys + offset - np.log10(knee + xs**exp)\n",
      "/Users/rdgao/Documents/code/research/fooof/fooof/core/funcs.py:65: RuntimeWarning: invalid value encountered in log10\n",
      "  ys = ys + offset - np.log10(knee + xs**exp)\n",
      "/Users/rdgao/Documents/code/research/fooof/fooof/core/funcs.py:65: RuntimeWarning: invalid value encountered in log10\n",
      "  ys = ys + offset - np.log10(knee + xs**exp)\n",
      "/Users/rdgao/Documents/code/research/fooof/fooof/core/funcs.py:65: RuntimeWarning: invalid value encountered in log10\n",
      "  ys = ys + offset - np.log10(knee + xs**exp)\n",
      "/Users/rdgao/Documents/code/research/fooof/fooof/core/funcs.py:65: RuntimeWarning: invalid value encountered in log10\n",
      "  ys = ys + offset - np.log10(knee + xs**exp)\n",
      "/Users/rdgao/Documents/code/research/fooof/fooof/core/funcs.py:65: RuntimeWarning: invalid value encountered in log10\n",
      "  ys = ys + offset - np.log10(knee + xs**exp)\n",
      "/Users/rdgao/Documents/code/research/fooof/fooof/core/funcs.py:65: RuntimeWarning: invalid value encountered in log10\n",
      "  ys = ys + offset - np.log10(knee + xs**exp)\n",
      "/Users/rdgao/Documents/code/research/fooof/fooof/core/funcs.py:65: RuntimeWarning: invalid value encountered in log10\n",
      "  ys = ys + offset - np.log10(knee + xs**exp)\n",
      "/Users/rdgao/Documents/code/research/fooof/fooof/core/funcs.py:65: RuntimeWarning: invalid value encountered in log10\n",
      "  ys = ys + offset - np.log10(knee + xs**exp)\n",
      "/Users/rdgao/Documents/code/research/fooof/fooof/core/funcs.py:65: RuntimeWarning: invalid value encountered in log10\n",
      "  ys = ys + offset - np.log10(knee + xs**exp)\n",
      "/Users/rdgao/Documents/code/research/fooof/fooof/core/funcs.py:65: RuntimeWarning: invalid value encountered in log10\n",
      "  ys = ys + offset - np.log10(knee + xs**exp)\n",
      "/Users/rdgao/Documents/code/research/fooof/fooof/core/funcs.py:65: RuntimeWarning: invalid value encountered in log10\n",
      "  ys = ys + offset - np.log10(knee + xs**exp)\n",
      "/Users/rdgao/Documents/code/research/fooof/fooof/core/funcs.py:65: RuntimeWarning: invalid value encountered in log10\n",
      "  ys = ys + offset - np.log10(knee + xs**exp)\n",
      "/Users/rdgao/Documents/code/research/fooof/fooof/core/funcs.py:65: RuntimeWarning: invalid value encountered in log10\n",
      "  ys = ys + offset - np.log10(knee + xs**exp)\n",
      "/Users/rdgao/Documents/code/research/fooof/fooof/core/funcs.py:65: RuntimeWarning: invalid value encountered in log10\n",
      "  ys = ys + offset - np.log10(knee + xs**exp)\n",
      "/Users/rdgao/Documents/code/research/fooof/fooof/core/funcs.py:65: RuntimeWarning: invalid value encountered in log10\n",
      "  ys = ys + offset - np.log10(knee + xs**exp)\n"
     ]
    },
    {
     "name": "stdout",
     "output_type": "stream",
     "text": [
      "/Users/rdgao/Documents/data/NeuroTycho/results/psd/10sec_win/fooof/1_EyesClosed_Propofol_20120802PF_Anesthesia_and_Sleep_Chibi_Toru_Yanagawa_mat_ECoG128.npz\n",
      "/Users/rdgao/Documents/data/NeuroTycho/results/psd/10sec_win/fooof/1_EyesClosed_Propofol_20120803PF_Anesthesia_and_Sleep_George_Toru_Yanagawa_mat_ECoG128.npz\n",
      "/Users/rdgao/Documents/data/NeuroTycho/results/psd/10sec_win/fooof/2_Delivery_Ketamine_20120719KT_Anesthesia_and_Sleep_Chibi_Toru_Yanagawa_mat_ECoG128.npz\n",
      "/Users/rdgao/Documents/data/NeuroTycho/results/psd/10sec_win/fooof/2_Delivery_Ketamine_20120724KT_Anesthesia_and_Sleep_George_Toru_Yanagawa_mat_ECoG128.npz\n",
      "/Users/rdgao/Documents/data/NeuroTycho/results/psd/10sec_win/fooof/2_Delivery_Ketamine_20120810KT_Anesthesia_and_Sleep_George_Toru_Yanagawa_mat_ECoG128.npz\n"
     ]
    },
    {
     "name": "stderr",
     "output_type": "stream",
     "text": [
      "/Users/rdgao/Documents/code/research/fooof/fooof/core/funcs.py:65: RuntimeWarning: invalid value encountered in log10\n",
      "  ys = ys + offset - np.log10(knee + xs**exp)\n",
      "/Users/rdgao/Documents/code/research/fooof/fooof/core/funcs.py:65: RuntimeWarning: invalid value encountered in log10\n",
      "  ys = ys + offset - np.log10(knee + xs**exp)\n",
      "/Users/rdgao/Documents/code/research/fooof/fooof/core/funcs.py:65: RuntimeWarning: invalid value encountered in log10\n",
      "  ys = ys + offset - np.log10(knee + xs**exp)\n",
      "/Users/rdgao/Documents/code/research/fooof/fooof/core/funcs.py:65: RuntimeWarning: invalid value encountered in log10\n",
      "  ys = ys + offset - np.log10(knee + xs**exp)\n",
      "/Users/rdgao/Documents/code/research/fooof/fooof/core/funcs.py:65: RuntimeWarning: invalid value encountered in log10\n",
      "  ys = ys + offset - np.log10(knee + xs**exp)\n",
      "/Users/rdgao/Documents/code/research/fooof/fooof/core/funcs.py:65: RuntimeWarning: invalid value encountered in log10\n",
      "  ys = ys + offset - np.log10(knee + xs**exp)\n",
      "/Users/rdgao/Documents/code/research/fooof/fooof/core/funcs.py:65: RuntimeWarning: invalid value encountered in log10\n",
      "  ys = ys + offset - np.log10(knee + xs**exp)\n",
      "/Users/rdgao/Documents/code/research/fooof/fooof/core/funcs.py:65: RuntimeWarning: invalid value encountered in log10\n",
      "  ys = ys + offset - np.log10(knee + xs**exp)\n",
      "/Users/rdgao/Documents/code/research/fooof/fooof/core/funcs.py:65: RuntimeWarning: invalid value encountered in log10\n",
      "  ys = ys + offset - np.log10(knee + xs**exp)\n",
      "/Users/rdgao/Documents/code/research/fooof/fooof/core/funcs.py:65: RuntimeWarning: invalid value encountered in log10\n",
      "  ys = ys + offset - np.log10(knee + xs**exp)\n",
      "/Users/rdgao/Documents/code/research/fooof/fooof/core/funcs.py:65: RuntimeWarning: invalid value encountered in log10\n",
      "  ys = ys + offset - np.log10(knee + xs**exp)\n",
      "/Users/rdgao/Documents/code/research/fooof/fooof/core/funcs.py:65: RuntimeWarning: invalid value encountered in log10\n",
      "  ys = ys + offset - np.log10(knee + xs**exp)\n",
      "/Users/rdgao/Documents/code/research/fooof/fooof/core/funcs.py:65: RuntimeWarning: invalid value encountered in log10\n",
      "  ys = ys + offset - np.log10(knee + xs**exp)\n",
      "/Users/rdgao/Documents/code/research/fooof/fooof/core/funcs.py:65: RuntimeWarning: invalid value encountered in log10\n",
      "  ys = ys + offset - np.log10(knee + xs**exp)\n",
      "/Users/rdgao/Documents/code/research/fooof/fooof/core/funcs.py:65: RuntimeWarning: invalid value encountered in log10\n",
      "  ys = ys + offset - np.log10(knee + xs**exp)\n"
     ]
    },
    {
     "name": "stdout",
     "output_type": "stream",
     "text": [
      "/Users/rdgao/Documents/data/NeuroTycho/results/psd/10sec_win/fooof/2_Delivery_Ketamine_20120813KT_Anesthesia_and_Sleep_Chibi_Toru_Yanagawa_mat_ECoG128.npz\n",
      "/Users/rdgao/Documents/data/NeuroTycho/results/psd/10sec_win/fooof/2_Delivery_Propofol_20120730PF_Anesthesia_and_Sleep_Chibi_Toru_Yanagawa_mat_ECoG128.npz\n"
     ]
    },
    {
     "name": "stderr",
     "output_type": "stream",
     "text": [
      "/Users/rdgao/Documents/code/research/fooof/fooof/core/funcs.py:65: RuntimeWarning: invalid value encountered in log10\n",
      "  ys = ys + offset - np.log10(knee + xs**exp)\n",
      "/Users/rdgao/Documents/code/research/fooof/fooof/core/funcs.py:65: RuntimeWarning: invalid value encountered in log10\n",
      "  ys = ys + offset - np.log10(knee + xs**exp)\n",
      "/Users/rdgao/Documents/code/research/fooof/fooof/core/funcs.py:65: RuntimeWarning: invalid value encountered in log10\n",
      "  ys = ys + offset - np.log10(knee + xs**exp)\n",
      "/Users/rdgao/Documents/code/research/fooof/fooof/core/funcs.py:65: RuntimeWarning: invalid value encountered in log10\n",
      "  ys = ys + offset - np.log10(knee + xs**exp)\n",
      "/Users/rdgao/Documents/code/research/fooof/fooof/core/funcs.py:65: RuntimeWarning: invalid value encountered in log10\n",
      "  ys = ys + offset - np.log10(knee + xs**exp)\n",
      "/Users/rdgao/Documents/code/research/fooof/fooof/core/funcs.py:65: RuntimeWarning: invalid value encountered in log10\n",
      "  ys = ys + offset - np.log10(knee + xs**exp)\n",
      "/Users/rdgao/Documents/code/research/fooof/fooof/core/funcs.py:65: RuntimeWarning: invalid value encountered in log10\n",
      "  ys = ys + offset - np.log10(knee + xs**exp)\n"
     ]
    },
    {
     "name": "stdout",
     "output_type": "stream",
     "text": [
      "/Users/rdgao/Documents/data/NeuroTycho/results/psd/10sec_win/fooof/2_Delivery_Propofol_20120731PF_Anesthesia_and_Sleep_George_Toru_Yanagawa_mat_ECoG128.npz\n"
     ]
    },
    {
     "name": "stderr",
     "output_type": "stream",
     "text": [
      "/Users/rdgao/Documents/code/research/fooof/fooof/core/funcs.py:65: RuntimeWarning: invalid value encountered in log10\n",
      "  ys = ys + offset - np.log10(knee + xs**exp)\n",
      "/Users/rdgao/Documents/code/research/fooof/fooof/core/funcs.py:65: RuntimeWarning: invalid value encountered in log10\n",
      "  ys = ys + offset - np.log10(knee + xs**exp)\n"
     ]
    },
    {
     "name": "stdout",
     "output_type": "stream",
     "text": [
      "/Users/rdgao/Documents/data/NeuroTycho/results/psd/10sec_win/fooof/2_Delivery_Propofol_20120802PF_Anesthesia_and_Sleep_Chibi_Toru_Yanagawa_mat_ECoG128.npz\n"
     ]
    },
    {
     "name": "stderr",
     "output_type": "stream",
     "text": [
      "/Users/rdgao/Documents/code/research/fooof/fooof/core/funcs.py:65: RuntimeWarning: invalid value encountered in log10\n",
      "  ys = ys + offset - np.log10(knee + xs**exp)\n"
     ]
    },
    {
     "name": "stdout",
     "output_type": "stream",
     "text": [
      "/Users/rdgao/Documents/data/NeuroTycho/results/psd/10sec_win/fooof/2_Delivery_Propofol_20120803PF_Anesthesia_and_Sleep_George_Toru_Yanagawa_mat_ECoG128.npz\n"
     ]
    },
    {
     "name": "stderr",
     "output_type": "stream",
     "text": [
      "/Users/rdgao/Documents/code/research/fooof/fooof/core/funcs.py:65: RuntimeWarning: invalid value encountered in log10\n",
      "  ys = ys + offset - np.log10(knee + xs**exp)\n",
      "/Users/rdgao/Documents/code/research/fooof/fooof/core/funcs.py:65: RuntimeWarning: invalid value encountered in log10\n",
      "  ys = ys + offset - np.log10(knee + xs**exp)\n"
     ]
    },
    {
     "name": "stdout",
     "output_type": "stream",
     "text": [
      "/Users/rdgao/Documents/data/NeuroTycho/results/psd/10sec_win/fooof/3_Anesthesia_Ketamine_20120719KT_Anesthesia_and_Sleep_Chibi_Toru_Yanagawa_mat_ECoG128.npz\n",
      "/Users/rdgao/Documents/data/NeuroTycho/results/psd/10sec_win/fooof/3_Anesthesia_Ketamine_20120724KT_Anesthesia_and_Sleep_George_Toru_Yanagawa_mat_ECoG128.npz\n",
      "/Users/rdgao/Documents/data/NeuroTycho/results/psd/10sec_win/fooof/3_Anesthesia_Ketamine_20120810KT_Anesthesia_and_Sleep_George_Toru_Yanagawa_mat_ECoG128.npz\n",
      "/Users/rdgao/Documents/data/NeuroTycho/results/psd/10sec_win/fooof/3_Anesthesia_Ketamine_20120813KT_Anesthesia_and_Sleep_Chibi_Toru_Yanagawa_mat_ECoG128.npz\n",
      "/Users/rdgao/Documents/data/NeuroTycho/results/psd/10sec_win/fooof/3_Anesthesia_Propofol_20120730PF_Anesthesia_and_Sleep_Chibi_Toru_Yanagawa_mat_ECoG128.npz\n",
      "/Users/rdgao/Documents/data/NeuroTycho/results/psd/10sec_win/fooof/3_Anesthesia_Propofol_20120731PF_Anesthesia_and_Sleep_George_Toru_Yanagawa_mat_ECoG128.npz\n"
     ]
    },
    {
     "name": "stderr",
     "output_type": "stream",
     "text": [
      "/Users/rdgao/Documents/code/research/fooof/fooof/core/funcs.py:65: RuntimeWarning: invalid value encountered in log10\n",
      "  ys = ys + offset - np.log10(knee + xs**exp)\n",
      "/Users/rdgao/Documents/code/research/fooof/fooof/core/funcs.py:65: RuntimeWarning: invalid value encountered in log10\n",
      "  ys = ys + offset - np.log10(knee + xs**exp)\n"
     ]
    },
    {
     "name": "stdout",
     "output_type": "stream",
     "text": [
      "/Users/rdgao/Documents/data/NeuroTycho/results/psd/10sec_win/fooof/3_Anesthesia_Propofol_20120802PF_Anesthesia_and_Sleep_Chibi_Toru_Yanagawa_mat_ECoG128.npz\n"
     ]
    },
    {
     "name": "stderr",
     "output_type": "stream",
     "text": [
      "/Users/rdgao/Documents/code/research/fooof/fooof/core/funcs.py:65: RuntimeWarning: invalid value encountered in log10\n",
      "  ys = ys + offset - np.log10(knee + xs**exp)\n"
     ]
    },
    {
     "name": "stdout",
     "output_type": "stream",
     "text": [
      "/Users/rdgao/Documents/data/NeuroTycho/results/psd/10sec_win/fooof/3_Anesthesia_Propofol_20120803PF_Anesthesia_and_Sleep_George_Toru_Yanagawa_mat_ECoG128.npz\n"
     ]
    },
    {
     "name": "stderr",
     "output_type": "stream",
     "text": [
      "/Users/rdgao/Documents/code/research/fooof/fooof/core/funcs.py:65: RuntimeWarning: invalid value encountered in log10\n",
      "  ys = ys + offset - np.log10(knee + xs**exp)\n",
      "/Users/rdgao/Documents/code/research/fooof/fooof/core/funcs.py:65: RuntimeWarning: invalid value encountered in log10\n",
      "  ys = ys + offset - np.log10(knee + xs**exp)\n",
      "/Users/rdgao/Documents/code/research/fooof/fooof/core/funcs.py:65: RuntimeWarning: invalid value encountered in log10\n",
      "  ys = ys + offset - np.log10(knee + xs**exp)\n",
      "/Users/rdgao/Documents/code/research/fooof/fooof/core/funcs.py:65: RuntimeWarning: invalid value encountered in log10\n",
      "  ys = ys + offset - np.log10(knee + xs**exp)\n"
     ]
    },
    {
     "data": {
      "text/plain": [
       "<matplotlib.figure.Figure at 0x1c1f21dd68>"
      ]
     },
     "metadata": {},
     "output_type": "display_data"
    }
   ],
   "source": [
    "# 10 sec fooof\n",
    "do_plot = True\n",
    "if do_plot:\n",
    "    plt.figure(figsize=(6,6))\n",
    "\n",
    "fooof_ranges = [(0.2,70), (0.2,70), (30,70), (0.2,7)] \n",
    "fooof_mnp = [5,5,1,0]\n",
    "fooof_bgp = ['fixed', 'knee', 'fixed','fixed']\n",
    "\n",
    "psd_path = '/Users/rdgao/Documents/data/NeuroTycho/results/psd/10sec_win/'\n",
    "psd_files = sorted([pf for pf in os.listdir(psd_path) if '.npz' in pf])\n",
    "for pf in psd_files:    \n",
    "    full_outpath = psd_path+'fooof/'\n",
    "    if not os.path.exists(full_outpath):\n",
    "        os.makedirs(full_outpath)\n",
    "    print(full_outpath+pf)\n",
    "    psd_data = np.load(psd_path+pf)\n",
    "\n",
    "    # fooof\n",
    "    psd_regen = []\n",
    "    for i in range(len(fooof_bgp)):\n",
    "        # get parameters\n",
    "        fr, fp, fb = fooof_ranges[i], fooof_mnp[i], fooof_bgp[i]\n",
    "        # fooof mean and median spectra\n",
    "        fg_mean, psd_re = fooof_psd(psd_data['f_axis'], psd_data['psd'], fr, fp, fb)\n",
    "        psd_regen.append(psd_re)\n",
    "        fg_med, psd_re = fooof_psd(psd_data['f_axis'], psd_data['psd_med'], fr, fp, fb)\n",
    "        psd_regen.append(psd_re)\n",
    "        # save fooof group\n",
    "        fooof_filename = '%i-%i_%s_%ipeaks_'%(fr[0], fr[1], fb, fp)+pf\n",
    "        fg_mean.save(file_name='psdmean_'+fooof_filename, file_path=full_outpath, save_results=True, save_settings=True)\n",
    "        fg_med.save(file_name='psdmed_'+fooof_filename, file_path=full_outpath, save_results=True, save_settings=True)\n",
    "        \n",
    "    # plot\n",
    "    if do_plot: plot_psds(psd_data, psd_path, pf, psd_regen)    \n",
    "    psd_data.close()"
   ]
  },
  {
   "cell_type": "code",
   "execution_count": 178,
   "metadata": {},
   "outputs": [
    {
     "name": "stdout",
     "output_type": "stream",
     "text": [
      "/Users/rdgao/Documents/data/NeuroTycho/results/psd/10sec_win/fooof/0_EyesOpen_Ketamine_20120719KT_Anesthesia_and_Sleep_Chibi_Toru_Yanagawa_mat_ECoG128.npz\n"
     ]
    },
    {
     "ename": "TypeError",
     "evalue": "fooof_psd() missing 2 required positional arguments: 'max_n_peaks' and 'bg_mode'",
     "output_type": "error",
     "traceback": [
      "\u001b[0;31m---------------------------------------------------------------------------\u001b[0m",
      "\u001b[0;31mTypeError\u001b[0m                                 Traceback (most recent call last)",
      "\u001b[0;32m<ipython-input-178-41a6bb558471>\u001b[0m in \u001b[0;36m<module>\u001b[0;34m()\u001b[0m\n\u001b[1;32m     18\u001b[0m \u001b[0;34m\u001b[0m\u001b[0m\n\u001b[1;32m     19\u001b[0m     \u001b[0;31m# fooof\u001b[0m\u001b[0;34m\u001b[0m\u001b[0;34m\u001b[0m\u001b[0m\n\u001b[0;32m---> 20\u001b[0;31m     \u001b[0mbg\u001b[0m\u001b[0;34m,\u001b[0m \u001b[0mpks\u001b[0m\u001b[0;34m,\u001b[0m \u001b[0mftns\u001b[0m\u001b[0;34m,\u001b[0m \u001b[0mbg_kn\u001b[0m\u001b[0;34m,\u001b[0m \u001b[0mpks_kn\u001b[0m\u001b[0;34m,\u001b[0m \u001b[0mftns_kn\u001b[0m \u001b[0;34m=\u001b[0m \u001b[0mfooof_psd\u001b[0m\u001b[0;34m(\u001b[0m\u001b[0mpsd_data\u001b[0m\u001b[0;34m[\u001b[0m\u001b[0;34m'f_axis'\u001b[0m\u001b[0;34m]\u001b[0m\u001b[0;34m,\u001b[0m \u001b[0mpsd_data\u001b[0m\u001b[0;34m[\u001b[0m\u001b[0;34m'psd'\u001b[0m\u001b[0;34m]\u001b[0m\u001b[0;34m,\u001b[0m \u001b[0mfooof_range\u001b[0m\u001b[0;34m=\u001b[0m\u001b[0mfooof_range\u001b[0m\u001b[0;34m)\u001b[0m\u001b[0;34m\u001b[0m\u001b[0m\n\u001b[0m\u001b[1;32m     21\u001b[0m     \u001b[0mbg_med\u001b[0m\u001b[0;34m,\u001b[0m \u001b[0mpks_med\u001b[0m\u001b[0;34m,\u001b[0m \u001b[0mftns_med\u001b[0m\u001b[0;34m,\u001b[0m \u001b[0mbg_kn_med\u001b[0m\u001b[0;34m,\u001b[0m \u001b[0mpks_kn_med\u001b[0m\u001b[0;34m,\u001b[0m \u001b[0mftns_kn_med\u001b[0m \u001b[0;34m=\u001b[0m \u001b[0mfooof_psd\u001b[0m\u001b[0;34m(\u001b[0m\u001b[0mpsd_data\u001b[0m\u001b[0;34m[\u001b[0m\u001b[0;34m'f_axis'\u001b[0m\u001b[0;34m]\u001b[0m\u001b[0;34m,\u001b[0m \u001b[0mpsd_data\u001b[0m\u001b[0;34m[\u001b[0m\u001b[0;34m'psd_med'\u001b[0m\u001b[0;34m]\u001b[0m\u001b[0;34m,\u001b[0m \u001b[0mfooof_range\u001b[0m\u001b[0;34m=\u001b[0m\u001b[0mfooof_range\u001b[0m\u001b[0;34m)\u001b[0m\u001b[0;34m\u001b[0m\u001b[0m\n\u001b[1;32m     22\u001b[0m \u001b[0;34m\u001b[0m\u001b[0m\n",
      "\u001b[0;31mTypeError\u001b[0m: fooof_psd() missing 2 required positional arguments: 'max_n_peaks' and 'bg_mode'"
     ]
    },
    {
     "data": {
      "text/plain": [
       "<matplotlib.figure.Figure at 0x1c1a9432e8>"
      ]
     },
     "metadata": {},
     "output_type": "display_data"
    }
   ],
   "source": [
    "# # 10 sec fooof\n",
    "# do_plot = True\n",
    "# if do_plot:\n",
    "#     plt.figure(figsize=(6,6))\n",
    "\n",
    "# fooof_range = (0.2,70)\n",
    "# psd_path = '/Users/rdgao/Documents/data/NeuroTycho/results/psd/10sec_win/'\n",
    "# psd_files = sorted([pf for pf in os.listdir(psd_path) if '.npz' in pf])\n",
    "# for pf in psd_files:    \n",
    "#     full_outpath = psd_path+'fooof/'\n",
    "#     if not os.path.exists(full_outpath):\n",
    "#         os.makedirs(full_outpath)\n",
    "#     print(full_outpath+pf)\n",
    "#     psd_data = np.load(psd_path+pf)\n",
    "\n",
    "#     # plot\n",
    "#     if do_plot: plot_psds(psd_data, psd_path, pf)\n",
    "\n",
    "#     # fooof    \n",
    "#     bg, pks, ftns, bg_kn, pks_kn, ftns_kn = fooof_psd(psd_data['f_axis'], psd_data['psd'], fooof_range=fooof_range)\n",
    "#     bg_med, pks_med, ftns_med, bg_kn_med, pks_kn_med, ftns_kn_med = fooof_psd(psd_data['f_axis'], psd_data['psd_med'], fooof_range=fooof_range)\n",
    "    \n",
    "#     save_dict = dict((name,eval(name)) for name in ['bg','pks','ftns','bg_kn','pks_kn','ftns_kn','bg_med','pks_med','ftns_med','bg_kn_med','pks_kn_med','ftns_kn_med', 'fooof_range'])\n",
    "#     np.savez(full_outpath+pf, **save_dict)"
   ]
  },
  {
   "cell_type": "code",
   "execution_count": 195,
   "metadata": {
    "collapsed": true
   },
   "outputs": [],
   "source": [
    "def compute_rolling_psd(data, fs, nperseg, noverlap, winlen_roll, f_lim=200.):\n",
    "    \"\"\"\n",
    "    winlen_roll: float\n",
    "        rolling window length in seconds\n",
    "    \"\"\"\n",
    "    numchan = data.shape[0]\n",
    "\n",
    "    f_axis, t_axis, spg = sp.signal.spectrogram(data, fs, nperseg=nperseg, noverlap=noverlap)\n",
    "    win_roll = int(winlen_roll/(1-noverlap/nperseg))\n",
    "    t_roll = np.array([ts[0] for ts in utils.yield_sliding_window_ts(t_axis, win_roll, 0)])\n",
    "    \n",
    "    psd_rolling = np.zeros((numchan, len(f_axis), len(t_roll)))\n",
    "    psd_rolling_med = np.zeros((numchan, len(f_axis), len(t_roll)))\n",
    "    for chan in range(numchan):\n",
    "        psd_rolling[chan,:,:] = np.array([chunk.mean(axis=-1) for chunk in utils.yield_sliding_window_ts(spg[chan], win_roll, 0)]).T\n",
    "        psd_rolling_med[chan,:,:] = np.array([np.median(chunk,axis=-1) for chunk in utils.yield_sliding_window_ts(spg[chan], win_roll, 0)]).T\n",
    "\n",
    "    f_ind = np.where(f_axis>f_lim)[0][0]\n",
    "    return f_axis[:f_ind], t_roll, psd_rolling[:,:f_ind,:], psd_rolling_med[:,:f_ind,:]"
   ]
  },
  {
   "cell_type": "code",
   "execution_count": 182,
   "metadata": {
    "collapsed": true
   },
   "outputs": [],
   "source": [
    "def plot_psds(psd_data, psd_folder, sessionfile, psds_regen=None):\n",
    "    numchan = psd_data['psd_full'].shape[0]\n",
    "    full_outpath = psd_folder+'/psd_plot/'+sessionfile.split('.')[0]\n",
    "    if not os.path.exists(full_outpath):\n",
    "        os.makedirs(full_outpath)\n",
    "    \n",
    "    psd_keys = [k for k in psd_data.keys() if 'psd' in k]\n",
    "    for chan in range(numchan):\n",
    "        for k in psd_keys:\n",
    "            # plot all psds\n",
    "            plt.loglog(psd_data['f_axis'], psd_data[k][chan,:], lw=1, label=k)\n",
    "        \n",
    "        plt.legend()\n",
    "        if psds_regen is not None:\n",
    "            # plot fitted spectra\n",
    "            for pr in psds_regen:\n",
    "                plt.loglog(pr['f_regen'], pr['psds_regen'][chan,:], '-.', lw=2)\n",
    "\n",
    "        plt.title('Channel: %i'%chan)\n",
    "        plt.xlabel('Frequency (Hz)')\n",
    "        plt.tight_layout()        \n",
    "        plt.savefig(full_outpath+'/chan%i.png'%chan)\n",
    "        plt.clf()"
   ]
  },
  {
   "cell_type": "code",
   "execution_count": 91,
   "metadata": {
    "collapsed": true
   },
   "outputs": [],
   "source": [
    "def compute_dfa(data, fs, dfa_n_scales=10, dfa_min_scale=0.01, dfa_max_scale=10):\n",
    "    numchan=data.shape[0]\n",
    "    DFs = np.zeros((numchan,dfa_n_scales))\n",
    "    alphas = np.zeros(numchan)\n",
    "    for chan in range(numchan):\n",
    "        # compute DFA\n",
    "        t_scales, DFs[chan,:], alphas[chan] = dfa.dfa(data[chan,:],fs, dfa_n_scales, dfa_min_scale, dfa_max_scale)\n",
    "\n",
    "    return t_scales, DFs, alphas"
   ]
  },
  {
   "cell_type": "code",
   "execution_count": 181,
   "metadata": {
    "collapsed": true
   },
   "outputs": [],
   "source": [
    "def fooof_psd(f_axis, psds, fooof_range, max_n_peaks, bg_mode):\n",
    "    fg = FOOOFGroup(background_mode=bg_mode, max_n_peaks=max_n_peaks, verbose=False)\n",
    "    fg.fit(freqs=f_axis, power_spectra=psds, freq_range=fooof_range)\n",
    "    f_regen = fg.freqs\n",
    "    psds_regen = 10**np.array([fg.get_fooof(ind, regenerate=True).fooofed_spectrum_ for ind in range(psds.shape[0])])\n",
    "    return fg, {'f_regen': f_regen, 'psds_regen': psds_regen}\n",
    "\n",
    "# def fooof_psd(f_axis, psds, fooof_range=(2,70), max_n_peaks=3):\n",
    "#     # FOOOF PSDs without knee\n",
    "#     fg = FOOOFGroup(background_mode='fixed', max_n_peaks=max_n_peaks, verbose=False)\n",
    "#     fg.fit(freqs=f_axis, power_spectra=psds, freq_range=fooof_range)\n",
    "\n",
    "#     bg = fg.get_all_data('background_params')\n",
    "#     pks = [f.peak_params for f in fg]\n",
    "#     ftns = np.array([fg.get_all_data('r_squared'),fg.get_all_data('error')]).T\n",
    "\n",
    "#     # FOOOF PSDs with knee\n",
    "#     fg_kn = FOOOFGroup(background_mode = 'knee', max_n_peaks=max_n_peaks, verbose=False)\n",
    "#     fg_kn.fit(freqs=f_axis, power_spectra=psds, freq_range=fooof_range)\n",
    "\n",
    "#     bg_kn = fg_kn.get_all_data('background_params')\n",
    "#     pks_kn = [f.peak_params for f in fg_kn]\n",
    "#     ftns_kn = np.array([fg_kn.get_all_data('r_squared'),fg_kn.get_all_data('error')]).T\n",
    "    \n",
    "#     return bg, pks, ftns, bg_kn, pks_kn, ftns_kn\n",
    "\n",
    "\n",
    "\n",
    "# def fooof_spg(f_axis, spg, fooof_range=(2,70), max_n_peaks=5):\n",
    "#     # fooof 3D psd [chan x freq x time/slice]\n",
    "    \n",
    "#     # FOOOF PSDs without knee\n",
    "#     fg = FOOOFGroup(background_mode='fixed', max_n_peaks=max_n_peaks, verbose=False)\n",
    "#     bg, pks, ftns = [],[],[]\n",
    "#     for t in range(spg.shape[2]):\n",
    "#         fg.fit(freqs=f_axis, power_spectra=spg[:,:,t], freq_range=fooof_range)\n",
    "#         bg.append(fg.get_all_data('background_params'))\n",
    "#         pks.append([f.peak_params for f in fg])\n",
    "#         ftns.append(np.array([fg.get_all_data('r_squared'),fg.get_all_data('error')]).T)\n",
    "\n",
    "#     # FOOOF PSDs with knee\n",
    "#     fg_kn = FOOOFGroup(background_mode = 'knee', max_n_peaks=max_n_peaks, verbose=False)\n",
    "#     bg_kn, pks_kn, ftns_kn = [],[],[]\n",
    "#     for t in range(spg.shape[2]):\n",
    "#         fg_kn.fit(freqs=f_axis, power_spectra=spg[:,:,t], freq_range=fooof_range)\n",
    "#         bg_kn.append(fg_kn.get_all_data('background_params'))\n",
    "#         pks_kn.append([f.peak_params for f in fg_kn])\n",
    "#         ftns_kn.append(np.array([fg_kn.get_all_data('r_squared'),fg_kn.get_all_data('error')]).T)\n",
    "        \n",
    "#     return bg, pks, ftns, bg_kn, pks_kn, ftns_kn"
   ]
  },
  {
   "cell_type": "code",
   "execution_count": null,
   "metadata": {
    "collapsed": true
   },
   "outputs": [],
   "source": [
    "# def compute_psds(data, fs, nperseg, noverlap, winlen_roll, f_lim=200.):\n",
    "#     \"\"\"\n",
    "#     winlen_roll: float\n",
    "#         rolling window length in seconds\n",
    "#     \"\"\"\n",
    "#     numchan = data.shape[0]\n",
    "\n",
    "#     # 1-sec PSD\n",
    "#     f_axis, t_axis, spg = sp.signal.spectrogram(data, fs, nperseg=nperseg, noverlap=noverlap)\n",
    "#     psd = spg.mean(axis=-1)\n",
    "#     psd_med = spg.median(axis=-1)\n",
    "\n",
    "#     # 1-sec rolling PSD\n",
    "#     win_roll = int(winlen_roll/(1-noverlap/nperseg))\n",
    "#     t_roll = np.array([ts[0] for ts in utils.yield_sliding_window_ts(t_axis, win_roll, 0)])\n",
    "#     psd_rolling = np.zeros((numchan, len(f_axis1), len(t_roll)))\n",
    "#     psd_m_rolling = np.zeros((numchan, len(f_axis1), len(t_roll)))\n",
    "#     for chan in range(numchan):\n",
    "#         psd_rolling[chan,:,:] = np.array([chunk.mean(axis=-1) for chunk in utils.yield_sliding_window_ts(spg[chan], win_roll, 0)]).T\n",
    "\n",
    "#     # 10-sec PSD\n",
    "#     f_axis_L, psd_L = ndsp.spectral.psd(data, fs, nperseg=nperseg*10, noverlap=nperseg*5)\n",
    "#     f_axis_L, psd_L_med = ndsp.spectral.psd(data, fs, method='median', nperseg=nperseg*10, noverlap=nperseg*5)\n",
    "    \n",
    "#     f_ind = np.where(f_axis>f_lim)[0][0]\n",
    "#     f_L_ind = np.where(f_axis_L>f_lim)[0][0]\n",
    "#     return f_axis[:f_ind], psd[:,:f_ind], t_roll, psd_rolling[:,:f_ind,:], f_axis_L[:f_L_ind], psd_L[:,:f_L_ind]"
   ]
  },
  {
   "cell_type": "code",
   "execution_count": 95,
   "metadata": {
    "collapsed": true
   },
   "outputs": [],
   "source": [
    "# def compute_nonlinear(data, fs, ac_max_lag=1000, dfa_n_scales=10, dfa_min_scale=0.01, dfa_max_scale=10, de_max_tau=1000, de_max_dim=5):\n",
    "#     numchan=data.shape[0]\n",
    "#     ACs = np.zeros((numchan,ac_max_lag))\n",
    "#     DFs = np.zeros((numchan,dfa_n_scales))\n",
    "#     alphas = np.zeros(numchan)\n",
    "#     dMIs = np.zeros((numchan,de_max_tau))\n",
    "#     tau_MI = np.zeros(numchan)\n",
    "#     pfnns = np.zeros((numchan, de_max_dim))\n",
    "#     recon_dims = np.zeros(numchan)    \n",
    "#     for chan in range(numchan):\n",
    "#         print('AC')\n",
    "#         # compute autocorr\n",
    "#         t_ac, ACs[chan,:] = delayembed.autocorr(data[chan,:],max_lag=ac_max_lag)\n",
    "#         print('DFA')\n",
    "#         # compute DFA\n",
    "#         t_scales, DFs[chan,:], alphas[chan] = dfa.dfa(data[chan,:],fs, dfa_n_scales, dfa_min_scale, dfa_max_scale)\n",
    "\n",
    "#         # compute MI \n",
    "#         print('MI')\n",
    "#         tMI, dMIs[chan,:] = delayembed.compute_delay_MI(data[chan,:],50,de_max_tau)\n",
    "#         opt_delay = delayembed.find_valley(dMIs[chan,:])\n",
    "#         tau_MI[chan] = opt_delay[0]\n",
    "        \n",
    "#         print('DE')\n",
    "#         # compute delay-embedding pfnn\n",
    "#         recon_dims[chan], pfnns[chan,:] = delayembed.pfnn_de_dim(data[chan,:],tau=opt_delay[0],max_dim=de_max_dim)\n",
    "\n",
    "#     return ACs, t_scales, DFs, alphas, dMIs, tau_MI, pfnns, recon_dims"
   ]
  },
  {
   "cell_type": "code",
   "execution_count": null,
   "metadata": {
    "collapsed": true
   },
   "outputs": [],
   "source": [
    "# def compute_features(data, fs, fooof_range=(2,200), ac_max_lag=500, dfa_n_scales=10, dfa_min_scale=0.01, dfa_max_scale=1):\n",
    "#     n_chans = data.shape[0]\n",
    "#     # compute PSDs\n",
    "#     f_axis, PSD = ndsp.spectral.psd(data,fs)\n",
    "#     PSD=PSD.T\n",
    "\n",
    "#     # FOOOF PSDs without knee\n",
    "#     fg = FOOOFGroup(max_n_peaks=0)\n",
    "#     fg.fit(freqs=f_axis, power_spectra=PSD.T, freq_range=fooof_range)\n",
    "#     fit_slope_lin = fg.get_all_data('background_params', 'slope')\n",
    "    \n",
    "#     # FOOOF PSDs with knee\n",
    "#     fg_kn = FOOOFGroup(background_mode = 'knee', max_n_peaks=0)\n",
    "#     fg_kn.fit(freqs=f_axis, power_spectra=PSD.T, freq_range=fooof_range)\n",
    "#     fit_knee = fg_kn.get_all_data('background_params', 'knee')\n",
    "#     fit_slope_kn = fg_kn.get_all_data('background_params', 'slope')\n",
    "\n",
    "#     # compute power at knee frequency\n",
    "#     P_knee = [PSD[np.argmin(np.abs((f_axis-(fit_knee[i]**0.5)))),i] for i in range(n_chans)]\n",
    "\n",
    "#     # compute autocorrelation & DFA\n",
    "#     AC = []\n",
    "#     DF = []\n",
    "#     alphas = np.zeros(n_chans)\n",
    "#     for i in range(n_chans):\n",
    "#         t_ac, ac = de.autocorr(data[i,:],max_lag=ac_max_lag)\n",
    "#         AC.append(ac)\n",
    "#         t_scales, df, alphas[i] = dfa.dfa(data[i,:],fs, dfa_n_scales, dfa_min_scale, dfa_max_scale)\n",
    "#         DF.append(df)\n",
    "    \n",
    "#     AC = np.array(AC)\n",
    "#     DF = np.array(DF)    \n",
    "#     return f_axis, PSD, fit_slope_lin, fit_slope_kn, fit_knee, P_knee, t_ac, AC, t_scales, DF, alphas"
   ]
  },
  {
   "cell_type": "code",
   "execution_count": 69,
   "metadata": {},
   "outputs": [
    {
     "name": "stdout",
     "output_type": "stream",
     "text": [
      "AwakeEyesOpened-Start to AwakeEyesOpened-End\n"
     ]
    }
   ],
   "source": [
    "session = session_indices[0]\n",
    "indices = access_nt.get_cond(data_path+datasets[1]+sess_append,session[0], session[1], session[2])\n",
    "data = access_nt.get_ECoG(data_path+datasets[1]+sess_append, session[0], range(1,10), indices)\n",
    "fs = 1000"
   ]
  },
  {
   "cell_type": "code",
   "execution_count": 120,
   "metadata": {},
   "outputs": [],
   "source": [
    "f_axis, psd = ndsp.spectral.psd(data[:10,:], fs, nperseg=1000, noverlap=500)\n",
    "f_axis, psd_med = ndsp.spectral.psd(data[:,:], fs, method='median', nperseg=1000, noverlap=500)\n",
    "#psd_rot = ndsp.spectral.rotate_powerlaw(np.ones_like(f_axis), f_axis[:], 0, f_rotation=100)"
   ]
  },
  {
   "cell_type": "code",
   "execution_count": 100,
   "metadata": {},
   "outputs": [
    {
     "data": {
      "image/png": "[encoded data removed]",
      "text/plain": [
       "<matplotlib.figure.Figure at 0x1c186cc358>"
      ]
     },
     "metadata": {},
     "output_type": "display_data"
    }
   ],
   "source": [
    "plt.figure(figsize=(15,8))\n",
    "plt.subplot(1,2,1)\n",
    "plt.loglog(f_axis,psd.T, alpha=0.5);\n",
    "\n",
    "plt.subplot(1,2,2)\n",
    "plt.loglog(f_axis,psd_med.T, alpha=0.5);"
   ]
  },
  {
   "cell_type": "code",
   "execution_count": 101,
   "metadata": {
    "collapsed": true
   },
   "outputs": [],
   "source": [
    "fg = FOOOFGroup(background_mode='knee', max_n_peaks=5, verbose=False)\n",
    "fg.fit(freqs=f_axis, power_spectra=psd, freq_range=(2,70))\n",
    "welch_fit = fg.get_all_data('background_params')\n",
    "fg.fit(freqs=f_axis, power_spectra=psd_med, freq_range=(2,70))\n",
    "medw_fit = fg.get_all_data('background_params')"
   ]
  },
  {
   "cell_type": "code",
   "execution_count": 127,
   "metadata": {},
   "outputs": [],
   "source": [
    "fg.fit(freqs=f_axis, power_spectra=psd_med, freq_range=(2,70))"
   ]
  },
  {
   "cell_type": "code",
   "execution_count": 148,
   "metadata": {},
   "outputs": [],
   "source": [
    "psd_keys = [k for k in psd_test.keys() if 'psd' in k]"
   ]
  },
  {
   "cell_type": "code",
   "execution_count": 135,
   "metadata": {},
   "outputs": [
    {
     "data": {
      "image/png": "[encoded data removed]",
      "text/plain": [
       "<matplotlib.figure.Figure at 0x1c189b2c50>"
      ]
     },
     "metadata": {},
     "output_type": "display_data"
    }
   ],
   "source": [
    "fg.save(file_name= save_results=True, save_settings=True)\n",
    "#plt.loglog(fg.freqs, psd_regen.T);"
   ]
  },
  {
   "cell_type": "code",
   "execution_count": 89,
   "metadata": {},
   "outputs": [
    {
     "data": {
      "text/plain": [
       "[<matplotlib.lines.Line2D at 0x1c167fb748>]"
      ]
     },
     "execution_count": 89,
     "metadata": {},
     "output_type": "execute_result"
    },
    {
     "data": {
      "image/png": "[encoded data removed]",
      "text/plain": [
       "<matplotlib.figure.Figure at 0x1c17b907f0>"
      ]
     },
     "metadata": {},
     "output_type": "display_data"
    }
   ],
   "source": [
    "psd_test = np.load('/Users/rdgao/Documents/data/NeuroTycho/results/psd/1sec_win/0_EyesOpen_Propofol_20120731PF_Anesthesia_and_Sleep_George_Toru_Yanagawa_mat_ECoG128.npz')\n",
    "#psd_test = np.load('/Users/rdgao/Documents/data/NeuroTycho/results/psd/1sec_win/0_EyesOpen_Propofol_20120730PF_Anesthesia_and_Sleep_Chibi_Toru_Yanagawa_mat_ECoG128.npz')\n",
    "chan= 3\n",
    "plt.loglog(psd_test['f_axis'], psd_test['psd'][chan,:]);\n",
    "plt.loglog(psd_test['f_axis'], psd_test['psd_med'][chan,:]);\n",
    "plt.loglog(lf.f_axis, lf.psd[chan,:])\n",
    "plt.loglog(f_axis, psd[chan,:])"
   ]
  },
  {
   "cell_type": "code",
   "execution_count": 86,
   "metadata": {},
   "outputs": [
    {
     "name": "stdout",
     "output_type": "stream",
     "text": [
      "AwakeEyesOpened-Start to AwakeEyesOpened-End\n"
     ]
    }
   ],
   "source": [
    "indices = access_nt.get_cond(data_path+datasets[1]+sess_append,session[0], session[1], session[2])\n",
    "data = access_nt.get_ECoG(data_path+datasets[1]+sess_append, session[0], range(1,129), indices)\n",
    "from scv_funcs import lfpca\n",
    "lf = lfpca.LFPCA({'nperseg':int(fs), 'noverlap':int(fs/2), 'spg_outlierpct':5, 'max_freq':200})\n",
    "lf.populate_ts_data(data,fs)\n",
    "lf.compute_all_spectral()"
   ]
  },
  {
   "cell_type": "code",
   "execution_count": 312,
   "metadata": {
    "collapsed": true
   },
   "outputs": [],
   "source": [
    "a,b,c = sp.signal.spectrogram(data[0,:],fs, nperseg=int(fs))"
   ]
  },
  {
   "cell_type": "code",
   "execution_count": 88,
   "metadata": {
    "collapsed": true
   },
   "outputs": [],
   "source": [
    "f_axis, psd = ndsp.spectral.psd(data, fs, nperseg=int(fs*10), noverlap=int(fs*5), flim=200., spg_outlierpct=2)"
   ]
  },
  {
   "cell_type": "code",
   "execution_count": null,
   "metadata": {
    "collapsed": true
   },
   "outputs": [],
   "source": []
  }
 ],
 "metadata": {
  "kernelspec": {
   "display_name": "Python 3",
   "language": "python",
   "name": "python3"
  },
  "language_info": {
   "codemirror_mode": {
    "name": "ipython",
    "version": 3
   },
   "file_extension": ".py",
   "mimetype": "text/x-python",
   "name": "python",
   "nbconvert_exporter": "python",
   "pygments_lexer": "ipython3",
   "version": "3.6.3"
  }
 },
 "nbformat": 4,
 "nbformat_minor": 2
}
