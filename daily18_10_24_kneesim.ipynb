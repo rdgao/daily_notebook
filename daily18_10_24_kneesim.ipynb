{
 "cells": [
  {
   "cell_type": "markdown",
   "metadata": {},
   "source": [
    "# Investigating the mixed effect of knee and slope\n",
    "We now have relatively precise characterizations of signals with power law spectrum and Lorentzian spectrum, namely, signals with power law and exponentially decaying autocorrelation functions, respectively. However, when the signal has a \"generalized Lorentzian (GL)\" spectrum, it's less clear what the relation is to the time domain autocorrelation. We also don't have a good way of simulating GL signals.\n",
    "\n",
    "Here, I do :\n",
    "- simulate signals with GL spectrum and revert back to time domain, and compute the autocorrelation"
   ]
  },
  {
   "cell_type": "code",
   "execution_count": null,
   "metadata": {
    "collapsed": true
   },
   "outputs": [],
   "source": [
    "%load_ext autoreload\n",
    "%autoreload 2\n",
    "    \n",
    "%matplotlib inline\n",
    "import sys\n",
    "import numpy as np\n",
    "import scipy as sp\n",
    "import matplotlib.pyplot as plt\n",
    "\n",
    "sys.path.append('/Users/rdgao/Documents/code/research/SpaceRecon/')\n",
    "sys.path.append('/Users/rdgao/Documents/code/research/spectralCV/')\n",
    "sys.path.append('/Users/rdgao/Documents/code/research/neurodsp/')\n",
    "sys.path.append('/Users/rdgao/Documents/code/research/fooof/')\n",
    "\n",
    "from fooof import FOOOF\n",
    "from fooof import FOOOFGroup\n",
    "import neurodsp as ndsp\n",
    "from nlds import delayembed as de\n",
    "from nlds import dfa, utils"
   ]
  }
 ],
 "metadata": {
  "kernelspec": {
   "display_name": "Python 3",
   "language": "python",
   "name": "python3"
  },
  "language_info": {
   "codemirror_mode": {
    "name": "ipython",
    "version": 3
   },
   "file_extension": ".py",
   "mimetype": "text/x-python",
   "name": "python",
   "nbconvert_exporter": "python",
   "pygments_lexer": "ipython3",
   "version": "3.6.3"
  }
 },
 "nbformat": 4,
 "nbformat_minor": 2
}
